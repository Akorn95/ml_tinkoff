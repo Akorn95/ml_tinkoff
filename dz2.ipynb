{
 "cells": [
  {
   "cell_type": "code",
   "execution_count": 19,
   "metadata": {},
   "outputs": [],
   "source": [
    "import pandas as pd\n",
    "import numpy as np\n",
    "import matplotlib.pyplot as plt\n",
    "from sklearn.externals import joblib\n",
    "#from sklearn import cross_validation\n",
    "from sklearn import svm\n",
    "from sklearn import neighbors\n",
    "from sklearn.ensemble import GradientBoostingClassifier\n",
    "from sklearn.ensemble import RandomForestClassifier\n",
    "from sklearn.linear_model import LogisticRegression\n",
    "from sklearn.metrics import roc_auc_score\n",
    "plt.style.use('ggplot')\n",
    "%matplotlib inline\n",
    "\n",
    "import warnings\n",
    "warnings.filterwarnings(\"ignore\")"
   ]
  },
  {
   "cell_type": "code",
   "execution_count": 60,
   "metadata": {},
   "outputs": [],
   "source": [
    "data=pd.read_csv('application_info.csv', index_col='id')\n",
    "y = pd.read_csv('default_flg.csv', index_col='id')\n",
    "train_index    = data[data.sample_cd =='train'].sample_cd.index\n",
    "validate_index = data[data.sample_cd =='validate'].sample_cd.index\n",
    "test_index     = data[data.sample_cd =='test'].sample_cd.index\n",
    "data.drop(['sample_cd','application_dt'],axis=1,inplace=True) #Удаляем два столбца из выборки"
   ]
  },
  {
   "cell_type": "code",
   "execution_count": 61,
   "metadata": {
    "collapsed": true
   },
   "outputs": [],
   "source": [
    "#data['application_dt'] = pd.to_datetime(data['application_dt'], format='%d%b%Y')"
   ]
  },
  {
   "cell_type": "markdown",
   "metadata": {},
   "source": [
    "пустое значение заменяем на \"нет образования\""
   ]
  },
  {
   "cell_type": "code",
   "execution_count": 62,
   "metadata": {
    "collapsed": true
   },
   "outputs": [],
   "source": [
    "data.education_cd.fillna('no_ed', inplace=True)"
   ]
  },
  {
   "cell_type": "code",
   "execution_count": 63,
   "metadata": {
    "scrolled": true
   },
   "outputs": [],
   "source": [
    "num_columns  = [col for col in data.columns if data.dtypes[col] != 'object']\n",
    "data_numerical = data[num_columns]\n",
    "data_numerical = (data_numerical - data_numerical.mean()) / data_numerical.std()\n",
    "data.drop(num_columns, axis=1, inplace=True)\n",
    "data = pd.concat([data, data_numerical], axis=1)"
   ]
  },
  {
   "cell_type": "markdown",
   "metadata": {},
   "source": [
    "кодируем категориальныйе признаки"
   ]
  },
  {
   "cell_type": "code",
   "execution_count": 64,
   "metadata": {},
   "outputs": [],
   "source": [
    "category_columns = [col for col in data.columns if data.dtypes[col] == 'object']\n",
    "data_category = pd.get_dummies(data[category_columns], drop_first=True)\n",
    "data.drop(category_columns, axis=1, inplace=True)\n",
    "data = pd.concat([data, data_category], axis=1)\n"
   ]
  },
  {
   "cell_type": "code",
   "execution_count": 20,
   "metadata": {},
   "outputs": [
    {
     "name": "stdout",
     "output_type": "stream",
     "text": [
      "home_address_cd work_address_cd 0.74087395785\n",
      "work_address_cd home_address_cd 0.74087395785\n",
      "sample_cd_train sample_cd_validate -0.779528825393\n",
      "sample_cd_validate sample_cd_train -0.779528825393\n",
      "education_cd_GRD education_cd_SCH -0.713393701343\n",
      "education_cd_SCH education_cd_GRD -0.713393701343\n",
      "car_own_flg_Y car_type_flg_Y 0.700206477339\n",
      "car_type_flg_Y car_own_flg_Y 0.700206477339\n"
     ]
    }
   ],
   "source": [
    "CorrKoef = data.corr()\n",
    "max=0\n",
    "for col in CorrKoef.columns:\n",
    "    for row in CorrKoef.columns:\n",
    "        if row!=col:\n",
    "            if abs(CorrKoef[col][row]) > 0.7:\n",
    "                print(col, row,CorrKoef[col][row])\n",
    "                     "
   ]
  },
  {
   "cell_type": "code",
   "execution_count": 39,
   "metadata": {},
   "outputs": [
    {
     "name": "stdout",
     "output_type": "stream",
     "text": [
      "   Train Validate    C\n",
      "0.574678 0.576420 0.000010\n",
      "0.595031 0.601508 0.000100\n",
      "0.596283 0.603663 0.001000\n",
      "0.596316 0.603821 0.010000\n",
      "0.596394 0.603805 0.100000\n",
      "0.596399 0.603779 1.000000\n",
      "0.596396 0.603779 10.000000\n",
      "0.596396 0.603779 100.000000\n",
      "0.596396 0.603779 1000.000000\n"
     ]
    }
   ],
   "source": [
    "print ('%8s %8s %4s' % ('Train','Validate','C'))\n",
    "for C in [0.00001, 0.0001, 0.001, 0.01, 0.1, 1, 10, 100, 1000]: \n",
    "    LR=LogisticRegression(penalty='l2', C=C) \n",
    "    LR.fit(data.loc[train_index], y.loc[train_index].default_flg)\n",
    "    AUC_train = roc_auc_score(y.loc[train_index].default_flg, LR.predict_proba(data.loc[train_index])[:,1])\n",
    "    AUC_validate = roc_auc_score(y.loc[validate_index].default_flg, LR.predict_proba(data.loc[validate_index])[:,1])\n",
    "    print('%.6f %.6f %f' %  (AUC_train, AUC_validate, C))"
   ]
  },
  {
   "cell_type": "code",
   "execution_count": 60,
   "metadata": {
    "collapsed": true
   },
   "outputs": [
    {
     "name": "stdout",
     "output_type": "stream",
     "text": [
      "   Train Validate    C\n",
      "** 8 **\n",
      "0.507281 0.503343 0.100000\n",
      "0.506379 0.500382 1.000000\n",
      "0.507290 0.503346 10.000000\n",
      "0.507290 0.503346 100.000000\n",
      "0.506384 0.500408 1000.000000\n",
      "** 9 **\n",
      "0.503177 0.499686 0.100000\n",
      "0.503189 0.499689 1.000000\n",
      "0.503189 0.499687 10.000000\n",
      "0.503189 0.499687 100.000000\n",
      "0.502685 0.500086 1000.000000\n",
      "** 10 **\n",
      "0.506903 0.504080 0.100000\n",
      "0.505296 0.502609 1.000000\n",
      "0.505323 0.503373 10.000000\n",
      "0.505323 0.503373 100.000000\n",
      "0.506909 0.504090 1000.000000\n",
      "** 11 **\n",
      "0.507044 0.503881 0.100000\n",
      "0.507058 0.503881 1.000000\n",
      "0.506167 0.502707 10.000000\n",
      "0.507060 0.503881 100.000000\n",
      "0.507060 0.503881 1000.000000\n",
      "** 12 **\n",
      "0.507512 0.503412 0.100000\n",
      "0.500061 0.499317 1.000000\n",
      "0.508170 0.504358 10.000000\n",
      "0.507521 0.503414 100.000000\n",
      "0.507523 0.503412 1000.000000\n",
      "** 13 **\n",
      "0.508520 0.504347 0.100000\n",
      "0.508530 0.504337 1.000000\n",
      "0.508531 0.504336 10.000000\n",
      "0.508531 0.504336 100.000000\n",
      "0.508531 0.504336 1000.000000\n",
      "** 14 **\n",
      "0.506892 0.505613 0.100000\n",
      "0.506907 0.505608 1.000000\n",
      "0.506908 0.505609 10.000000\n",
      "0.506908 0.505609 100.000000\n",
      "0.506908 0.505609 1000.000000\n",
      "** 15 **\n",
      "0.507674 0.504419 0.100000\n",
      "0.507689 0.504411 1.000000\n",
      "0.507690 0.504411 10.000000\n",
      "0.507690 0.504411 100.000000\n",
      "0.507691 0.504411 1000.000000\n",
      "** 16 **\n",
      "0.508402 0.503126 0.100000\n",
      "0.508413 0.503122 1.000000\n",
      "0.508415 0.503122 10.000000\n",
      "0.508415 0.503122 100.000000\n",
      "0.508415 0.503122 1000.000000\n",
      "** 17 **\n",
      "0.508710 0.502967 0.100000\n",
      "0.508722 0.502963 1.000000\n",
      "0.508724 0.502962 10.000000\n",
      "0.508724 0.502962 100.000000\n",
      "0.508724 0.502962 1000.000000\n"
     ]
    }
   ],
   "source": [
    "from sklearn.decomposition import PCA\n",
    "\n",
    "print ('%8s %8s %4s' % ('Train','Validate','C'))\n",
    "for n in range (8,18): \n",
    "    print('**', n, '**')\n",
    "    pca = PCA(n_components = n)\n",
    "    XPCA =pd.DataFrame( pca.fit_transform(data))\n",
    "    for C in [ 0.1, 1, 10, 100, 1000]: \n",
    "        LR=LogisticRegression(penalty='l2', C=C) \n",
    "        LR.fit(XPCA.loc[train_index], y.loc[train_index].default_flg)\n",
    "        AUC_train = roc_auc_score(y.loc[train_index].default_flg, LR.predict_proba(XPCA.loc[train_index])[:,1])\n",
    "        AUC_validate = roc_auc_score(y.loc[validate_index].default_flg, LR.predict_proba(XPCA.loc[validate_index])[:,1])\n",
    "        print('%.6f %.6f %f' %  (AUC_train, AUC_validate, C))"
   ]
  },
  {
   "cell_type": "code",
   "execution_count": 65,
   "metadata": {
    "collapsed": true
   },
   "outputs": [],
   "source": [
    "def WoE(target, feature, nbuck=10):\n",
    "    \"\"\"Функция, русующая зависимость WoE от среднего значения признака в бакете\"\"\"\n",
    "    #Копируем данные\n",
    "    df = pd.DataFrame()\n",
    "    df['target']  = target.copy()\n",
    "    df['feature'] = feature.copy()\n",
    "    #Считаем номер бакета\n",
    "    df['feature_buck'] = df['feature'].rank(method='min', pct=1, na_option = 'top').apply(\n",
    "        lambda x: int((x- 1/df.shape[0])*nbuck))\n",
    "    #Запоминаем среднее значение целевой переменной и кол-во наблюдений\n",
    "    tr  = df['target'].mean()\n",
    "    cnt = df['target'].count()\n",
    "    #Агрегируем по каждому бакету\n",
    "    df = df.groupby('feature_buck')['target' ].agg({'tr': 'mean','cnt': 'size'}).join(\n",
    "        df.groupby('feature_buck')['feature'].agg({'feature_av': 'mean'}))\n",
    "    #В случае крайних значений tr делаем сглаживание\n",
    "    df.tr = df.tr.apply(lambda x: max(0.001, min(0.999, x)))\n",
    "    \n",
    "    #считаем WoE\n",
    "    df.eval('WoE = log(tr/@tr)-log((1-tr)/(1-@tr))', inplace=True)\n",
    "    #Погрешность WoE\n",
    "    df.eval('WoE_d = 2/sqrt(tr*(1-tr)*cnt)', inplace=True) \n",
    "    #убираем наблюдения с пустым значением признака\n",
    "    df.dropna(inplace=True)\n",
    "    #Рисуем график\n",
    "    fig = plt.gcf()\n",
    "    plt.grid(True)\n",
    "    plt.errorbar(df['feature_av'], df.WoE, yerr=np.array((df['WoE_d'])))\n",
    "    plt.xlabel('feature')\n",
    "    plt.ylabel('WoE')\n",
    "    plt.show()\n",
    "\n",
    "def IV(target, feature, nbuck=10):\n",
    "    \"\"\"Функция, возвращающая IV признака-feature с целевой переменной target\"\"\"\n",
    "    #Копируем данные\n",
    "    df = pd.DataFrame()\n",
    "    df['target']  = target.copy()\n",
    "    df['feature'] = feature.copy()\n",
    "    #Считаем номер бакета\n",
    "    df['feature_buck'] = df['feature'].rank(method='min', pct=1, na_option = 'top').apply(\n",
    "        lambda x: int((x- 1.0/df.shape[0])*nbuck))\n",
    "    #Запоминаем среднее значение целевой переменной и кол-во наблюдений\n",
    "    tr  = df['target'].mean()\n",
    "    cnt = df['target'].count()\n",
    "    #Агрегируем по каждому бакету\n",
    "    df = df.groupby('feature_buck')['target'].agg({'tr': 'mean','cnt': 'size'})\n",
    "    #В случае крайних значений tr делаем сглаживание\n",
    "    df.tr = df.tr.apply(lambda x: max(0.001, min(0.999, x)))\n",
    "    #Считаем IV\n",
    "    df.eval('IV = ( (tr/@tr) - ((1-tr)/(1-@tr))) * (log(tr/@tr) - log((1-tr)/(1-@tr)) ) * (cnt/@cnt)', inplace=True)\n",
    "    IV = df.IV.sum()\n",
    "    return IV"
   ]
  },
  {
   "cell_type": "code",
   "execution_count": 66,
   "metadata": {},
   "outputs": [
    {
     "data": {
      "image/png": "[encoded data removed]",
      "text/plain": [
       "<matplotlib.figure.Figure at 0x394adcf8d0>"
      ]
     },
     "metadata": {},
     "output_type": "display_data"
    }
   ],
   "source": [
    "WoE(y.loc[train_index].default_flg, data.loc[train_index].Score_bki, nbuck=20)"
   ]
  },
  {
   "cell_type": "code",
   "execution_count": 53,
   "metadata": {},
   "outputs": [
    {
     "data": {
      "image/png": "[encoded data removed]",
      "text/plain": [
       "<matplotlib.figure.Figure at 0x394b19e940>"
      ]
     },
     "metadata": {},
     "output_type": "display_data"
    }
   ],
   "source": [
    "WoE(y.loc[train_index].default_flg, data.loc[train_index].income, nbuck=10)"
   ]
  },
  {
   "cell_type": "code",
   "execution_count": 55,
   "metadata": {},
   "outputs": [
    {
     "name": "stdout",
     "output_type": "stream",
     "text": [
      "0.03837794897479724\n",
      "0.034555024624488326\n",
      "0.03275181593515397\n"
     ]
    }
   ],
   "source": [
    "print (IV(y.loc[train_index].default_flg, data.loc[train_index].income, nbuck=10))\n",
    "print (IV(y.loc[train_index].default_flg, data.loc[train_index].income.apply(lambda x: np.log(x)), nbuck=10))\n",
    "print (IV(y.loc[train_index].default_flg, data.loc[train_index].income.apply(lambda x: int(x > 0)), nbuck=10))"
   ]
  },
  {
   "cell_type": "code",
   "execution_count": 58,
   "metadata": {},
   "outputs": [],
   "source": [
    "data['income_0_flg'] = data.income.apply(lambda x: int(x > 0))\n",
    "data.drop('income', axis=1, inplace=True)"
   ]
  },
  {
   "cell_type": "code",
   "execution_count": 49,
   "metadata": {},
   "outputs": [
    {
     "data": {
      "image/png": "[encoded data removed]",
      "text/plain": [
       "<matplotlib.figure.Figure at 0x394b2e3f98>"
      ]
     },
     "metadata": {},
     "output_type": "display_data"
    }
   ],
   "source": [
    "WoE(y.loc[train_index].default_flg, data.loc[train_index].age, nbuck=10)"
   ]
  },
  {
   "cell_type": "code",
   "execution_count": 67,
   "metadata": {},
   "outputs": [
    {
     "name": "stdout",
     "output_type": "stream",
     "text": [
      "   Train Validate    C\n",
      "0.636948 0.612759 0.000010\n",
      "0.687739 0.667362 0.000100\n",
      "0.724056 0.708655 0.001000\n",
      "0.728665 0.715054 0.010000\n",
      "0.728975 0.715896 0.100000\n",
      "0.729046 0.716087 1.000000\n",
      "0.729044 0.716116 10.000000\n",
      "0.729042 0.716118 100.000000\n",
      "0.729042 0.716118 1000.000000\n"
     ]
    }
   ],
   "source": [
    "print ('%8s %8s %4s' % ('Train','Validate','C'))\n",
    "for C in [0.00001, 0.0001, 0.001, 0.01, 0.1, 1, 10, 100, 1000]: \n",
    "    LR=LogisticRegression(penalty='l2', C=C) \n",
    "    LR.fit(data.loc[train_index], y.loc[train_index].default_flg)\n",
    "    AUC_train = roc_auc_score(y.loc[train_index].default_flg, LR.predict_proba(data.loc[train_index])[:,1])\n",
    "    AUC_validate = roc_auc_score(y.loc[validate_index].default_flg, LR.predict_proba(data.loc[validate_index])[:,1])\n",
    "    print('%.6f %.6f %f' %  (AUC_train, AUC_validate, C))"
   ]
  },
  {
   "cell_type": "code",
   "execution_count": 68,
   "metadata": {
    "collapsed": true
   },
   "outputs": [],
   "source": [
    "LR_best = LogisticRegression(C=100, penalty='l2') # <- на самом деле ругуляризация 1/C\n",
    "LR.fit(data.loc[train_index], y.loc[train_index].default_flg)\n",
    "test_pd = LR.predict_proba(data.loc[test_index])[:,1]"
   ]
  },
  {
   "cell_type": "code",
   "execution_count": 69,
   "metadata": {},
   "outputs": [
    {
     "name": "stdout",
     "output_type": "stream",
     "text": [
      "(24480, 1)\n"
     ]
    },
    {
     "data": {
      "text/html": [
       "<div>\n",
       "<style>\n",
       "    .dataframe thead tr:only-child th {\n",
       "        text-align: right;\n",
       "    }\n",
       "\n",
       "    .dataframe thead th {\n",
       "        text-align: left;\n",
       "    }\n",
       "\n",
       "    .dataframe tbody tr th {\n",
       "        vertical-align: top;\n",
       "    }\n",
       "</style>\n",
       "<table border=\"1\" class=\"dataframe\">\n",
       "  <thead>\n",
       "    <tr style=\"text-align: right;\">\n",
       "      <th></th>\n",
       "      <th>score</th>\n",
       "    </tr>\n",
       "    <tr>\n",
       "      <th>id</th>\n",
       "      <th></th>\n",
       "    </tr>\n",
       "  </thead>\n",
       "  <tbody>\n",
       "    <tr>\n",
       "      <th>180817</th>\n",
       "      <td>0.074953</td>\n",
       "    </tr>\n",
       "    <tr>\n",
       "      <th>180818</th>\n",
       "      <td>0.120073</td>\n",
       "    </tr>\n",
       "  </tbody>\n",
       "</table>\n",
       "</div>"
      ],
      "text/plain": [
       "           score\n",
       "id              \n",
       "180817  0.074953\n",
       "180818  0.120073"
      ]
     },
     "execution_count": 69,
     "metadata": {},
     "output_type": "execute_result"
    }
   ],
   "source": [
    "test_pd = pd.DataFrame(test_pd, columns=['score'], index=test_index)\n",
    "test_pd.to_csv('my_submission.csv')\n",
    "print(test_pd.shape)\n",
    "test_pd.head(2)"
   ]
  },
  {
   "cell_type": "code",
   "execution_count": null,
   "metadata": {
    "collapsed": true
   },
   "outputs": [],
   "source": []
  }
 ],
 "metadata": {
  "kernelspec": {
   "display_name": "Python 3",
   "language": "python",
   "name": "python3"
  },
  "language_info": {
   "codemirror_mode": {
    "name": "ipython",
    "version": 3
   },
   "file_extension": ".py",
   "mimetype": "text/x-python",
   "name": "python",
   "nbconvert_exporter": "python",
   "pygments_lexer": "ipython3",
   "version": "3.6.1"
  }
 },
 "nbformat": 4,
 "nbformat_minor": 2
}
