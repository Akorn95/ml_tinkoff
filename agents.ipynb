{
 "cells": [
  {
   "cell_type": "markdown",
   "metadata": {},
   "source": [
    "# Распределение встреч между представителями"
   ]
  },
  {
   "cell_type": "code",
   "execution_count": 1,
   "metadata": {
    "collapsed": true
   },
   "outputs": [],
   "source": [
    "import pandas as pd\n",
    "import random\n",
    "import numpy as np\n",
    "import time"
   ]
  },
  {
   "cell_type": "markdown",
   "metadata": {},
   "source": [
    "## Подготовка данных"
   ]
  },
  {
   "cell_type": "code",
   "execution_count": 2,
   "metadata": {
    "collapsed": true
   },
   "outputs": [],
   "source": [
    "agents = pd.read_csv('data/F_REAL_WORK.csv', sep=';', index_col='agent_id').to_dict(orient='index')\n",
    "activities = pd.read_csv('data/F_ACT.csv', sep=';', index_col='ID').to_dict(orient='index')\n",
    "skills = pd.read_csv('data/F_SKILLS.csv', sep=';')\n",
    "skills_set = set()\n",
    "for i in skills.itertuples():\n",
    "    skills_set.add((i[1], i[2]))\n",
    "scenarios = pd.read_csv('data/F_SCENARIO.csv', sep=';', index_col='ID').to_dict(orient='index')\n",
    "distance = pd.read_csv('data/F_DISTANCE.csv', sep=';', index_col=['id1', 'id2'])\n",
    "id_by_act = {act: i for i, act in enumerate(list(activities))}\n",
    "distance_by_id = np.zeros((len(activities), len(activities)))\n",
    "\n",
    "for (i, j), row in distance.iterrows():\n",
    "    id_i = id_by_act[i]\n",
    "    id_j = id_by_act[j]\n",
    "    distance_by_id[id_i][id_j] = row['dist']\n",
    "    distance_by_id[id_j][id_i] = row['dist']"
   ]
  },
  {
   "cell_type": "markdown",
   "metadata": {},
   "source": [
    "#### Определение доп.функций"
   ]
  },
  {
   "cell_type": "code",
   "execution_count": 44,
   "metadata": {
    "collapsed": true
   },
   "outputs": [],
   "source": [
    "def get_end_by_act(act):\n",
    "    return activities[act]['DUE_TIME']\n",
    "def get_distance_between_act(from_act, to_act):\n",
    "    return distance_by_id[id_by_act[from_act]][id_by_act[to_act]]\n",
    "def agent_have_skill(agent, skill):\n",
    "    return (agent, skill) in skills_set\n",
    "def sort_solution(solution):\n",
    "    for agent in solution:\n",
    "        solution[agent].sort(key=get_start_by_act)\n",
    "def create_empty_solution(agents):\n",
    "    result = dict()\n",
    "    score = 0\n",
    "    for agent in agents:\n",
    "        result.update({agent: []})\n",
    "    return result\n",
    "def get_random_solution():\n",
    "    solution = create_empty_solution(agents)\n",
    "    for act in activities:\n",
    "        skill = activities[act]['SCENARIO_ID']\n",
    "        random_agent = random.choice(list(skills[skills.SCENARIO_ID == skill]['agent_id']))\n",
    "        solution[random_agent].append(act)\n",
    "    sort_solution(solution)\n",
    "    return solution"
   ]
  },
  {
   "cell_type": "markdown",
   "metadata": {},
   "source": [
    "#### Подсчет метрик"
   ]
  },
  {
   "cell_type": "code",
   "execution_count": 45,
   "metadata": {
    "collapsed": true
   },
   "outputs": [],
   "source": [
    "def compute_total_travel_time(solution):\n",
    "    total_time = 0\n",
    "    for agent in solution:\n",
    "        if len(solution[agent]) == 0:\n",
    "            continue\n",
    "        first_act = solution[agent][0]\n",
    "        total_time += activities[first_act]['from_office']\n",
    "        for i in range(len(solution[agent]) - 1):\n",
    "            total_time += get_distance_between_act(solution[agent][i], solution[agent][i+1])\n",
    "    return total_time\n",
    "def compute_start_times(solution):\n",
    "    activity_start = dict()\n",
    "    for agent in solution:\n",
    "        if len(solution[agent]) == 0:\n",
    "            continue\n",
    "        first_act = solution[agent][0]\n",
    "        activity_start[first_act] = max(activities[first_act]['READY_TIME'],\n",
    "                                        agents[agent]['SLOT_START'] + activities[first_act]['from_office'])\n",
    "        for i in range(1, len(solution[agent])):\n",
    "            current_act = solution[agent][i]\n",
    "            prev_act = solution[agent][i - 1]\n",
    "            dist = get_distance_between_act(prev_act, current_act)\n",
    "            skill_prev_act = activities[prev_act]['SCENARIO_ID']\n",
    "            activity_start[current_act] = max(activities[current_act]['READY_TIME'], \n",
    "                                              activity_start[prev_act] + scenarios[skill_prev_act]['DURATION'] * 60 + dist)\n",
    "    return activity_start\n",
    "def compute_wait_time(solution):\n",
    "    activity_start = compute_start_times(solution)\n",
    "    total_wait = 0\n",
    "    for act, start_act in activity_start.items():\n",
    "        local_wait = max(0, start_act - activities[act]['DUE_TIME'])\n",
    "        total_wait += local_wait**2\n",
    "    return total_wait\n",
    "def compute_all_metrics(solution):\n",
    "    total_travel = compute_total_travel_time(solution)\n",
    "    total_wait = compute_wait_time(solution)\n",
    "    return total_travel + 0.02 * total_wait"
   ]
  },
  {
   "cell_type": "markdown",
   "metadata": {},
   "source": [
    "### Эвристика"
   ]
  },
  {
   "cell_type": "markdown",
   "metadata": {},
   "source": [
    "#### Случайные изменения"
   ]
  },
  {
   "cell_type": "markdown",
   "metadata": {},
   "source": [
    " время начала встречи"
   ]
  },
  {
   "cell_type": "code",
   "execution_count": 46,
   "metadata": {
    "collapsed": true
   },
   "outputs": [],
   "source": [
    "def get_start_by_act(act):\n",
    "    return activities[act]['READY_TIME']"
   ]
  },
  {
   "cell_type": "markdown",
   "metadata": {},
   "source": [
    "определим те же метрики, но для одного агента, чтоб быстрее считать"
   ]
  },
  {
   "cell_type": "code",
   "execution_count": 47,
   "metadata": {
    "collapsed": true
   },
   "outputs": [],
   "source": [
    "def compute_total_travel_time_agent(solution, agent):\n",
    "    total_time = 0    \n",
    "    if len(solution[agent]) == 0:\n",
    "        return total_time\n",
    "    first_act = solution[agent][0]\n",
    "    total_time += activities[first_act]['from_office']\n",
    "    for i in range(len(solution[agent]) - 1):\n",
    "        total_time += get_distance_between_act(solution[agent][i], solution[agent][i+1])\n",
    "    return total_time\n",
    "def compute_start_times_agent(solution, agent):\n",
    "    activity_start = dict()    \n",
    "    if len(solution[agent]) == 0:\n",
    "        return activity_start\n",
    "    first_act = solution[agent][0]\n",
    "    activity_start[first_act] = max(activities[first_act]['READY_TIME'],\n",
    "                                    agents[agent]['SLOT_START'] + activities[first_act]['from_office'])\n",
    "    for i in range(1, len(solution[agent])):\n",
    "        current_act = solution[agent][i]\n",
    "        prev_act = solution[agent][i - 1]\n",
    "        dist = get_distance_between_act(prev_act, current_act)\n",
    "        skill_prev_act = activities[prev_act]['SCENARIO_ID']\n",
    "        activity_start[current_act] = max(activities[current_act]['READY_TIME'], \n",
    "                                    activity_start[prev_act] + scenarios[skill_prev_act]['DURATION'] * 60 + dist)\n",
    "    return activity_start\n",
    "def compute_wait_time_agent(solution, agent):\n",
    "    activity_start = compute_start_times_agent(solution, agent)\n",
    "    total_wait = 0\n",
    "    for act, start_act in activity_start.items():\n",
    "        local_wait = max(0, start_act - activities[act]['DUE_TIME'])\n",
    "        total_wait += local_wait**2\n",
    "    return total_wait\n",
    "def compute_all_metrics_agent(solution, agent):\n",
    "    total_travel = compute_total_travel_time_agent(solution, agent)\n",
    "    total_wait = compute_wait_time_agent(solution, agent)\n",
    "    return total_travel + 0.02 * total_wait"
   ]
  },
  {
   "cell_type": "markdown",
   "metadata": {
    "collapsed": true
   },
   "source": [
    "все же сортируем по началу встречи"
   ]
  },
  {
   "cell_type": "markdown",
   "metadata": {},
   "source": [
    "при перераспределении задач присваиваем ее агенту, с наименшим показателем приращения метрики"
   ]
  },
  {
   "cell_type": "code",
   "execution_count": 48,
   "metadata": {
    "collapsed": true
   },
   "outputs": [],
   "source": [
    "def merge_greedly_by_time(solution, k):\n",
    "    candidates = random.choices(list(solution), k=k)\n",
    "    cand_acts = []\n",
    "    for e in candidates:\n",
    "        cand_acts.extend(solution[e])\n",
    "        solution[e] = []\n",
    "    cand_acts.sort(key=get_start_by_act)\n",
    "    for act in cand_acts:\n",
    "        best_candidate = -1\n",
    "        best_metr = -1\n",
    "        skill = activities[act]['SCENARIO_ID']\n",
    "        for candidate in candidates:\n",
    "            if (not agent_have_skill(candidate, skill)):\n",
    "                continue\n",
    "            old_metr=compute_all_metrics_agent(solution, candidate)\n",
    "            solution[candidate].append(act)\n",
    "            p_metr = compute_all_metrics_agent(solution, candidate)\n",
    "            if ((p_metr-old_metr < best_metr) or (best_metr == -1)):\n",
    "                best_metr = p_metr\n",
    "                best_candidate = candidate\n",
    "            solution[candidate].pop()\n",
    "        assert best_candidate != -1\n",
    "        solution[best_candidate].append(act)\n",
    "    return solution"
   ]
  },
  {
   "cell_type": "code",
   "execution_count": 49,
   "metadata": {
    "collapsed": true
   },
   "outputs": [],
   "source": [
    "def random_transfer(solution):\n",
    "    agent = random.choice(list(solution))\n",
    "    while len(solution[agent]) == 0:\n",
    "        agent = random.choice(list(solution))\n",
    "    act = random.choice(tuple(solution[agent]))\n",
    "    solution[agent].remove(act)\n",
    "    skill=activities[act]['SCENARIO_ID']\n",
    "    new_agent = random.choice(list(skills[skills.SCENARIO_ID == skill]['agent_id']))\n",
    "    solution[new_agent].append(act)"
   ]
  },
  {
   "cell_type": "markdown",
   "metadata": {},
   "source": [
    "#### создание моего поколения\n",
    "пытаемся для каждой встречи найти агента, работающего в этот интервал"
   ]
  },
  {
   "cell_type": "code",
   "execution_count": 50,
   "metadata": {
    "collapsed": true
   },
   "outputs": [],
   "source": [
    "def get_timestart_solution():\n",
    "    solution = create_empty_solution(agents)\n",
    "    for act in activities:\n",
    "        skill = activities[act]['SCENARIO_ID']\n",
    "        random_agent = random.choice(list(skills[skills.SCENARIO_ID == skill]['agent_id']))\n",
    "        for i in range(len(agents)):\n",
    "            if (agents[random_agent]['SLOT_START']<activities[act]['DUE_TIME'])\\\n",
    "               |(agents[random_agent]['SLOT_END']>activities[act]['READY_TIME']):\n",
    "                    random_agent = random.choice(list(skills[skills.SCENARIO_ID == skill]['agent_id']))\n",
    "                    break\n",
    "            else:\n",
    "                continue\n",
    "        solution[random_agent].append(act)\n",
    "    sort_solution(solution)\n",
    "    return solution"
   ]
  },
  {
   "cell_type": "code",
   "execution_count": 68,
   "metadata": {},
   "outputs": [
    {
     "name": "stdout",
     "output_type": "stream",
     "text": [
      "Wall time: 22min 17s\n"
     ]
    }
   ],
   "source": [
    "%%time\n",
    "generation_size = 1000\n",
    "generation = []\n",
    "for _ in range(generation_size):\n",
    "    one_solution = get_timestart_solution()\n",
    "    generation.append((compute_all_metrics(one_solution), one_solution))"
   ]
  },
  {
   "cell_type": "code",
   "execution_count": 69,
   "metadata": {},
   "outputs": [
    {
     "data": {
      "text/plain": [
       "12736053463.84"
      ]
     },
     "execution_count": 69,
     "metadata": {},
     "output_type": "execute_result"
    }
   ],
   "source": [
    "generation.sort()\n",
    "generation[0][0]"
   ]
  },
  {
   "cell_type": "markdown",
   "metadata": {},
   "source": [
    "#### Получение следующего поколения"
   ]
  },
  {
   "cell_type": "markdown",
   "metadata": {},
   "source": [
    "Поменяла правила отбора в популяции и добавили другую мутацию"
   ]
  },
  {
   "cell_type": "code",
   "execution_count": 71,
   "metadata": {
    "scrolled": true
   },
   "outputs": [
    {
     "name": "stdout",
     "output_type": "stream",
     "text": [
      "[2672754326.8600001, 2719363712.7800002, 2728187156.2000003, 2729355177.9000001, 2734958073.9000001]\n",
      "Wall time: 2h 38min\n"
     ]
    }
   ],
   "source": [
    "%%time\n",
    "for i in range(10):\n",
    "    new_generation = generation[:]\n",
    "    for g in generation:\n",
    "        for p in range(10):\n",
    "            new_solution = merge_greedly_by_time(g[1], 20)\n",
    "            new_generation.append((compute_all_metrics(new_solution), new_solution))\n",
    "            new_solution = g[1]\n",
    "            random_transfer(new_solution)\n",
    "            new_generation.append((compute_all_metrics(new_solution), new_solution))\n",
    "    new_generation.sort()\n",
    "    generation = new_generation[:100]             # 5 лучших\n",
    "    generation.extend(new_generation[-100:])      # 5 худших\n",
    "    for k in range(100):                         # 10 случайных\n",
    "        rand=random.randint(101,len(new_generation)-100)\n",
    "        generation.extend(new_generation[rand:rand+1])\n",
    "\n",
    "        \n",
    "            \n",
    "    if i % 10 == 9:\n",
    "        print([s[0] for s in generation][:5])\n",
    "        "
   ]
  },
  {
   "cell_type": "markdown",
   "metadata": {},
   "source": [
    "#### Сохранение распределения"
   ]
  },
  {
   "cell_type": "code",
   "execution_count": 61,
   "metadata": {
    "collapsed": true
   },
   "outputs": [],
   "source": [
    "def save_solution(file_name, solution):\n",
    "    data = []\n",
    "    for agent in solution:\n",
    "        for act in solution[agent]:\n",
    "            data.append([agent, act])\n",
    "    pd.DataFrame(data, columns=['agent_id', 'act_id']).to_csv(file_name, index=False)"
   ]
  },
  {
   "cell_type": "code",
   "execution_count": 64,
   "metadata": {
    "collapsed": true
   },
   "outputs": [],
   "source": [
    "save_solution('2783557099.csv', generation[0][1])"
   ]
  },
  {
   "cell_type": "code",
   "execution_count": null,
   "metadata": {
    "collapsed": true
   },
   "outputs": [],
   "source": []
  }
 ],
 "metadata": {
  "kernelspec": {
   "display_name": "Python 3",
   "language": "python",
   "name": "python3"
  },
  "language_info": {
   "codemirror_mode": {
    "name": "ipython",
    "version": 3
   },
   "file_extension": ".py",
   "mimetype": "text/x-python",
   "name": "python",
   "nbconvert_exporter": "python",
   "pygments_lexer": "ipython3",
   "version": "3.6.1"
  }
 },
 "nbformat": 4,
 "nbformat_minor": 2
}
