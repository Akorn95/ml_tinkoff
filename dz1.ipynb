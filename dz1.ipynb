{
 "cells": [
  {
   "cell_type": "code",
   "execution_count": 1,
   "metadata": {
    "collapsed": true
   },
   "outputs": [],
   "source": [
    "import pandas as pd\n",
    "from sklearn.preprocessing import LabelEncoder\n",
    "import matplotlib.pyplot as plt\n",
    "import numpy"
   ]
  },
  {
   "cell_type": "code",
   "execution_count": 2,
   "metadata": {
    "collapsed": true
   },
   "outputs": [],
   "source": [
    "data = pd.read_csv('1hm.csv')"
   ]
  },
  {
   "cell_type": "code",
   "execution_count": 3,
   "metadata": {},
   "outputs": [
    {
     "data": {
      "text/plain": [
       "count     14999\n",
       "unique        9\n",
       "top          UK\n",
       "freq       1772\n",
       "Name: GEO, dtype: object"
      ]
     },
     "execution_count": 3,
     "metadata": {},
     "output_type": "execute_result"
    }
   ],
   "source": [
    "# top country\n",
    "data['GEO'].describe()"
   ]
  },
  {
   "cell_type": "code",
   "execution_count": 4,
   "metadata": {},
   "outputs": [
    {
     "data": {
      "text/plain": [
       "3414.3774680603947"
      ]
     },
     "execution_count": 4,
     "metadata": {},
     "output_type": "execute_result"
    }
   ],
   "source": [
    "#avar step\n",
    "data[(data['GEO']=='France')&(data['Gender']=='M')]['Sensor_StepCount'].mean()\n"
   ]
  },
  {
   "cell_type": "code",
   "execution_count": 5,
   "metadata": {
    "collapsed": true
   },
   "outputs": [],
   "source": [
    "#labled text\n",
    "\n",
    "newdata=data.copy()\n",
    "newdata=newdata.drop(['ID'], axis=1)\n",
    "category = newdata.columns[newdata.dtypes == 'object'][1:]\n",
    "le=LabelEncoder()\n",
    "for col in category:\n",
    "    newdata[col] =le.fit_transform(newdata[col])\n"
   ]
  },
  {
   "cell_type": "code",
   "execution_count": 6,
   "metadata": {},
   "outputs": [
    {
     "name": "stdout",
     "output_type": "stream",
     "text": [
      "Percent_Remote     0.897223\n",
      "last_evaluation    0.897223\n",
      "dtype: float64\n",
      "Emp_Role    -0.770815\n",
      "Men_Leave   -0.770815\n",
      "dtype: float64\n"
     ]
    }
   ],
   "source": [
    "#pearson\n",
    "pirs=newdata.corr(method='pearson', min_periods=1)\n",
    "k=0\n",
    "for i in pirs:\n",
    "    pirs[i][k]=0\n",
    "    k=k+1\n",
    "\n",
    "print(pirs.max()[pirs.max()==pirs.max().max()])\n",
    "\n",
    "print(pirs.min()[pirs.min()==pirs.min().min()])"
   ]
  },
  {
   "cell_type": "code",
   "execution_count": 7,
   "metadata": {},
   "outputs": [
    {
     "data": {
      "image/png": "[encoded data removed]",
      "text/plain": [
       "<matplotlib.figure.Figure at 0x930d192588>"
      ]
     },
     "metadata": {},
     "output_type": "display_data"
    }
   ],
   "source": [
    "plt.hist(data['Sensor_Heartbeat(Average/Min)'], color='blue')\n",
    "plt.show()"
   ]
  },
  {
   "cell_type": "code",
   "execution_count": 8,
   "metadata": {},
   "outputs": [],
   "source": [
    "#data[data['Sensor_Heartbeat(Average/Min)']>numpy.percentile(data['Sensor_Heartbeat(Average/Min)'], q=95.)]['Role'].describe()"
   ]
  },
  {
   "cell_type": "code",
   "execution_count": 9,
   "metadata": {},
   "outputs": [
    {
     "data": {
      "text/html": [
       "<div>\n",
       "<style>\n",
       "    .dataframe thead tr:only-child th {\n",
       "        text-align: right;\n",
       "    }\n",
       "\n",
       "    .dataframe thead th {\n",
       "        text-align: left;\n",
       "    }\n",
       "\n",
       "    .dataframe tbody tr th {\n",
       "        vertical-align: top;\n",
       "    }\n",
       "</style>\n",
       "<table border=\"1\" class=\"dataframe\">\n",
       "  <thead>\n",
       "    <tr style=\"text-align: right;\">\n",
       "      <th></th>\n",
       "      <th>heart</th>\n",
       "    </tr>\n",
       "    <tr>\n",
       "      <th>Role</th>\n",
       "      <th></th>\n",
       "    </tr>\n",
       "  </thead>\n",
       "  <tbody>\n",
       "    <tr>\n",
       "      <th>VP</th>\n",
       "      <td>0.0727273</td>\n",
       "    </tr>\n",
       "  </tbody>\n",
       "</table>\n",
       "</div>"
      ],
      "text/plain": [
       "          heart\n",
       "Role           \n",
       "VP    0.0727273"
      ]
     },
     "execution_count": 9,
     "metadata": {},
     "output_type": "execute_result"
    }
   ],
   "source": [
    "high_heartbeat=data[data['Sensor_Heartbeat(Average/Min)']>numpy.percentile(data['Sensor_Heartbeat(Average/Min)'], q=95.)]['Role']\n",
    "Role=pd.DataFrame(data=data['Role'].drop_duplicates( keep='first', inplace=False), index=data['Role'].drop_duplicates( keep='first', inplace=False), columns=['heart'])\n",
    "\n",
    "for empl in Role.index:\n",
    "    Role['heart'][empl]=len(high_heartbeat[high_heartbeat==empl])/len(data[data['Role']==empl])\n",
    "Role[Role['heart']==Role['heart'].max()]"
   ]
  },
  {
   "cell_type": "code",
   "execution_count": null,
   "metadata": {
    "collapsed": true
   },
   "outputs": [],
   "source": []
  }
 ],
 "metadata": {
  "kernelspec": {
   "display_name": "Python 3",
   "language": "python",
   "name": "python3"
  },
  "language_info": {
   "codemirror_mode": {
    "name": "ipython",
    "version": 3
   },
   "file_extension": ".py",
   "mimetype": "text/x-python",
   "name": "python",
   "nbconvert_exporter": "python",
   "pygments_lexer": "ipython3",
   "version": "3.6.1"
  }
 },
 "nbformat": 4,
 "nbformat_minor": 2
}
