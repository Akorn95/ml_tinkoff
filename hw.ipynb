{
 "cells": [
  {
   "cell_type": "markdown",
   "metadata": {},
   "source": [
    "# TFSa17 ML: Deep Learning & CNN "
   ]
  },
  {
   "cell_type": "code",
   "execution_count": 8,
   "metadata": {},
   "outputs": [
    {
     "name": "stderr",
     "output_type": "stream",
     "text": [
      "Using TensorFlow backend.\n"
     ]
    }
   ],
   "source": [
    "import keras"
   ]
  },
  {
   "cell_type": "markdown",
   "metadata": {},
   "source": [
    "Задача этой домашки – понять, как работать с keras и вообще с нейронками.\n",
    "\n",
    "Самая сложная часть этого задания в том, чтобы развернуть все окружение. Вам потребуется видеокарта nvidia с по крайней мере 2Гб памяти. Мануал по облакам выложу отдельно.\n",
    "\n",
    "В качестве фреймворка нейронок будем использовать keras. Keras – это высокоуровневая надстройка над tensorflow. Документация и мануалы живут здесь: https://keras.io/\n",
    "\n",
    "Дедлайн 31 октября в 8:00. К этому моменту нужно получить какие-то результаты на kaggle и прислать тетрадки с решениями в anytask\n",
    "\n",
    "## Задача 1\n",
    "\n",
    "Посчитайте, сколько параметров (весов) в этом слое:"
   ]
  },
  {
   "cell_type": "markdown",
   "metadata": {},
   "source": [
    "А сколько в этой модели?"
   ]
  },
  {
   "cell_type": "code",
   "execution_count": 99,
   "metadata": {
    "collapsed": true
   },
   "outputs": [],
   "source": [
    "input_x = keras.layers.Input(shape=(224, 224, 3))\n",
    "x = keras.layers.Conv2D(filters=3, kernel_size=(5, 5), strides=(1, 1), padding='same', use_bias=True)(input_x)\n"
   ]
  },
  {
   "cell_type": "code",
   "execution_count": 97,
   "metadata": {
    "collapsed": true
   },
   "outputs": [],
   "source": [
    "input_x = keras.layers.Input(shape=(224, 224, 3))\n",
    "x = keras.layers.Conv2D(filters=3, kernel_size=(5, 5), strides=(1, 1))(input_x)\n",
    "x = keras.layers.Flmodel.summary()atten()(x)\n",
    "output_x = keras.layers.Dense(10)(x)\n",
    "\n",
    "model = keras.models.Model(inputs=input_x, outputs=output_x)"
   ]
  },
  {
   "cell_type": "markdown",
   "metadata": {},
   "source": [
    "Можно просто вызвать `model.summary()`, чтобы посмотреть правильный ответ. Мне же нужно от вас развернутое объяснение, почему ответ именно такой\n",
    "\n"
   ]
  },
  {
   "cell_type": "code",
   "execution_count": null,
   "metadata": {
    "collapsed": true
   },
   "outputs": [],
   "source": [
    "\n",
    "# Ваш развернутый ответ\n",
    "1)\n",
    "размер фильтра 5*5\n",
    "\n",
    "глубина исходной матрицы 3\n",
    "\n",
    "шаг смещения 1 (т.к. use_bias=True)\n",
    "\n",
    "5*5*3+1=76\n",
    "\n",
    "размерность фильтра 76*3=228\n",
    "\n",
    "____________________________________\n",
    "2)\n",
    "размер фильтра 5*5\n",
    "\n",
    "глубина исходной матрицы 3\n",
    "\n",
    "шаг смещения 1 (т.к. use_bias=True по умолчанию)\n",
    "\n",
    "5*5*3+1=76\n",
    "\n",
    "размерность фильтра 76*3=228\n",
    "\n",
    "flatten расплющивает на 220*220*3=145200 (т.к. по умолчанию padding='valid' )\n",
    "\n",
    "(Dense(use_bias=True)) (145200+1)*10=1452010\n",
    "\n",
    "1452010+228=145238"
   ]
  },
  {
   "cell_type": "markdown",
   "metadata": {},
   "source": [
    "# Задача 2\n",
    "\n",
    "Предлагаю порешать вот это соревнование: https://www.kaggle.com/c/dog-breed-identification.\n",
    "Будем определять породу собак по фото.\n",
    "\n",
    "От вас требуется получить более-менее достойное качество, например находиться в первой половине лидерборда. Пожалуйста, в названии команды указывайте <span style='color: red'>(TFS)</span> (это вот тут https://www.kaggle.com/c/dog-breed-identification/team). У вас должен быть ноутбук, где будет:\n",
    "* решение, сделанное руками\n",
    "* решение, где вы дообучаете предобученную на imagenet модель (https://keras.io/applications/)\n",
    "\n",
    "Не важно, какое решение из двух лучше, главное -- это лидерборд и наличие двух моделей в ноутбуке\n",
    "\n",
    "Ниже приведу пример базового решения для MNIST (нет, MNIST зарешивать не будем):"
   ]
  },
  {
   "cell_type": "markdown",
   "metadata": {},
   "source": [
    "## MNIST\n",
    "\n",
    "Вот пример базового варианта сетки, которая будет классифицировать MNIST"
   ]
  },
  {
   "cell_type": "code",
   "execution_count": 1,
   "metadata": {},
   "outputs": [
    {
     "name": "stderr",
     "output_type": "stream",
     "text": [
      "Using TensorFlow backend.\n"
     ]
    }
   ],
   "source": [
    "import numpy as np\n",
    "import matplotlib.pyplot as plt\n",
    "%matplotlib inline\n",
    "\n",
    "from keras.datasets import mnist\n",
    "from keras.models import Sequential\n",
    "from keras.layers import Dense, Dropout, Flatten\n",
    "from keras.layers import Conv2D, MaxPooling2D\n",
    "from keras import backend as K"
   ]
  },
  {
   "cell_type": "code",
   "execution_count": 13,
   "metadata": {
    "collapsed": true
   },
   "outputs": [],
   "source": [
    "import keras"
   ]
  },
  {
   "cell_type": "code",
   "execution_count": 25,
   "metadata": {},
   "outputs": [
    {
     "name": "stdout",
     "output_type": "stream",
     "text": [
      "(60000, 28, 28)\n"
     ]
    },
    {
     "data": {
      "text/plain": [
       "<matplotlib.image.AxesImage at 0x2cc80f0d30>"
      ]
     },
     "execution_count": 25,
     "metadata": {},
     "output_type": "execute_result"
    },
    {
     "data": {
      "image/png": "[encoded data removed]",
      "text/plain": [
       "<matplotlib.figure.Figure at 0x2cae73ef28>"
      ]
     },
     "metadata": {},
     "output_type": "display_data"
    }
   ],
   "source": [
    "# скачиваем данные\n",
    "(x_train, y_train), (x_test, y_test) = mnist.load_data()\n",
    "print(x_train.shape) # размер train датасета -- 60к черно-белых картинок размером 28x28\n",
    "plt.imshow(x_train[0], cmap='gray') # посмотрим на одну из картинок"
   ]
  },
  {
   "cell_type": "code",
   "execution_count": 11,
   "metadata": {
    "collapsed": true
   },
   "outputs": [],
   "source": [
    "batch_size = 128 # это количество картинок, по которым происходит один проход по нейронке, а потом -- один шаг в сторону антиградиента \n",
    "num_classes = 10 # количество классов == количество цифр\n",
    "epochs = 12 # эпоха -- это один обход всего датасета. здесь для обучения мы прогоняем всю выборку 5 раз \n",
    "img_rows, img_cols = 28, 28 # размер картинок"
   ]
  },
  {
   "cell_type": "code",
   "execution_count": 28,
   "metadata": {},
   "outputs": [
    {
     "data": {
      "text/plain": [
       "array([7, 2, 1, ..., 4, 5, 6], dtype=uint8)"
      ]
     },
     "execution_count": 28,
     "metadata": {},
     "output_type": "execute_result"
    }
   ],
   "source": [
    "y_test"
   ]
  },
  {
   "cell_type": "code",
   "execution_count": 30,
   "metadata": {},
   "outputs": [
    {
     "data": {
      "text/plain": [
       "<matplotlib.image.AxesImage at 0x2cc82ca320>"
      ]
     },
     "execution_count": 30,
     "metadata": {},
     "output_type": "execute_result"
    },
    {
     "data": {
      "image/png": "[encoded data removed]",
      "text/plain": [
       "<matplotlib.figure.Figure at 0x2cc81ea710>"
      ]
     },
     "metadata": {},
     "output_type": "display_data"
    }
   ],
   "source": [
    "plt.imshow(x_test[1], cmap='gray') # посмотрим на одну из картинок"
   ]
  },
  {
   "cell_type": "code",
   "execution_count": 14,
   "metadata": {},
   "outputs": [
    {
     "name": "stdout",
     "output_type": "stream",
     "text": [
      "x_train shape: (60000, 28, 28, 1)\n",
      "60000 train samples\n",
      "10000 test samples\n"
     ]
    }
   ],
   "source": [
    "# есть два подхода к порядку размерностей тензора:\n",
    "# как у theano (channels_first): [objects, channels, rows, cols]\n",
    "# как у tensorflow (channels_last): [objects, rows, cols, channels]\n",
    "# этот порядок задается в keras.json (https://keras.io/backend/#kerasjson-details)\n",
    "# по дефолту все стоит для tensorflow и скорее всего ничего менять не надо\n",
    "\n",
    "# в датасете MNIST размерность 3 (objects, rows, cols), так как у черно-белых картинок один канал.\n",
    "# Нужно привести матрицы к виду [objects, rows, cols, channels]\n",
    "x_train = x_train.reshape(x_train.shape[0], img_rows, img_cols, 1)\n",
    "x_test = x_test.reshape(x_test.shape[0], img_rows, img_cols, 1)\n",
    "input_shape = (img_rows, img_cols, 1)\n",
    "\n",
    "# картинки обычно 24битные, по 8 бит на канал, то есть для каждого канала цвет имеет интенсивность от 0 до 255.\n",
    "# приведем интенсивности пикселей в [0, 1]\n",
    "x_train = x_train.astype('float32')\n",
    "x_test = x_test.astype('float32')\n",
    "x_train /= 255 \n",
    "x_test /= 255\n",
    "print('x_train shape:', x_train.shape)\n",
    "print(x_train.shape[0], 'train samples')\n",
    "print(x_test.shape[0], 'test samples')\n",
    "\n",
    "# мы хотим получить на выходе нейронки, к какому из 10 классов относится текущая картинка.\n",
    "# Нейроны без нелинейности выдают непрерывные значения. Можно было бы, например, сделать на выход один нейрон \n",
    "# и пытаться оптимизировать его через MSE. Например, если на каритнке 3, то нейрон выдает значение в районе [2.5, 3.5).\n",
    "# Сразу понятно, что такой подход не слишком естественен (допустим, у нас есть датасет, в котором 1 и 7 не различимы,\n",
    "# получается, что оптимально всегда выдавать для них 4)\n",
    "# Вместо этого сделаем на последнем слое 10 нейронов, по одному на класс, и будем предсказывать вероятности того,\n",
    "# что на картинке определенная цифра.\n",
    "\n",
    "# Для того, чтобы обучать сеть с 10 нейронами в последнем слое, нам нужно, чтобы вектор ответов тоже имел длину 10\n",
    "# Нам нужно вот такое преобразование: 3 -> [0, 0, 0, 1, 0, 0, 0, 0, 0, 0]\n",
    "old_y_train, old_y_test = y_train, y_test\n",
    "y_train = keras.utils.to_categorical(y_train, num_classes)\n",
    "y_test = keras.utils.to_categorical(y_test, num_classes)"
   ]
  },
  {
   "cell_type": "code",
   "execution_count": 15,
   "metadata": {},
   "outputs": [
    {
     "data": {
      "text/plain": [
       "(5, '->', array([ 0.,  0.,  0.,  0.,  0.,  1.,  0.,  0.,  0.,  0.]))"
      ]
     },
     "execution_count": 15,
     "metadata": {},
     "output_type": "execute_result"
    }
   ],
   "source": [
    "old_y_train[0], '->', y_train[0]"
   ]
  },
  {
   "cell_type": "code",
   "execution_count": 24,
   "metadata": {},
   "outputs": [
    {
     "data": {
      "text/plain": [
       "60000"
      ]
     },
     "execution_count": 24,
     "metadata": {},
     "output_type": "execute_result"
    }
   ],
   "source": [
    "len(y_train)"
   ]
  },
  {
   "cell_type": "code",
   "execution_count": 16,
   "metadata": {
    "collapsed": true
   },
   "outputs": [],
   "source": [
    "# подготовили данные, теперь делаем саму нейронку.\n",
    "# создаем объект Sequential, который означает самую простую архитетуру, где слои следуют друг за другом\n",
    "# Делаем обычную архитектуру, где сверточные слои перемежаются с max pooling, потом делаем тензор плоским,\n",
    "# добавляем полносвязный слой, дропаут и в конце полносвязный слой с количеством нейронов, равным количеству классов.\n",
    "# В конце добавляем SoftMax, чтобы получить вероятности\n",
    "\n",
    "model = Sequential()\n",
    "model.add(Conv2D(32, kernel_size=(3, 3),\n",
    "                 activation='relu',\n",
    "                 input_shape=input_shape))\n",
    "model.add(Conv2D(64, (3, 3), activation='relu'))\n",
    "model.add(MaxPooling2D(pool_size=(2, 2)))\n",
    "model.add(Dropout(0.25))\n",
    "model.add(Flatten())\n",
    "model.add(Dense(128, activation='relu'))\n",
    "model.add(Dropout(0.5))\n",
    "model.add(Dense(num_classes, activation='softmax'))\n",
    "\n",
    "# Если бы у нас было два класса, можно было бы использовать два нейрона и категориальную кросс-энтропию, \n",
    "# или один нейрон и бинарную кроссэнтропию. Но здесь вариантов нет, так что категориальная кроссэнтропия\n",
    "\n",
    "model.compile(loss=keras.losses.categorical_crossentropy,\n",
    "              optimizer=keras.optimizers.Adam(),\n",
    "              metrics=['accuracy'])"
   ]
  },
  {
   "cell_type": "code",
   "execution_count": 17,
   "metadata": {},
   "outputs": [
    {
     "name": "stdout",
     "output_type": "stream",
     "text": [
      "Train on 60000 samples, validate on 10000 samples\n",
      "Epoch 1/12\n",
      "60000/60000 [==============================] - 211s - loss: 0.2288 - acc: 0.9311 - val_loss: 0.0506 - val_acc: 0.9839\n",
      "Epoch 2/12\n",
      "60000/60000 [==============================] - 212s - loss: 0.0822 - acc: 0.9752 - val_loss: 0.0387 - val_acc: 0.9870\n",
      "Epoch 3/12\n",
      "60000/60000 [==============================] - 209s - loss: 0.0600 - acc: 0.9817 - val_loss: 0.0328 - val_acc: 0.9899\n",
      "Epoch 4/12\n",
      "60000/60000 [==============================] - 204s - loss: 0.0528 - acc: 0.9838 - val_loss: 0.0297 - val_acc: 0.9897\n",
      "Epoch 5/12\n",
      "60000/60000 [==============================] - 217s - loss: 0.0442 - acc: 0.9865 - val_loss: 0.0285 - val_acc: 0.9901\n",
      "Epoch 6/12\n",
      "60000/60000 [==============================] - 222s - loss: 0.0390 - acc: 0.9877 - val_loss: 0.0299 - val_acc: 0.9902\n",
      "Epoch 7/12\n",
      "60000/60000 [==============================] - 207s - loss: 0.0339 - acc: 0.9890 - val_loss: 0.0267 - val_acc: 0.9918\n",
      "Epoch 8/12\n",
      "60000/60000 [==============================] - 213s - loss: 0.0292 - acc: 0.9902 - val_loss: 0.0306 - val_acc: 0.9916\n",
      "Epoch 9/12\n",
      "60000/60000 [==============================] - 211s - loss: 0.0273 - acc: 0.9912 - val_loss: 0.0277 - val_acc: 0.9922\n",
      "Epoch 10/12\n",
      "60000/60000 [==============================] - 205s - loss: 0.0235 - acc: 0.9925 - val_loss: 0.0260 - val_acc: 0.9930\n",
      "Epoch 11/12\n",
      "60000/60000 [==============================] - 208s - loss: 0.0236 - acc: 0.9923 - val_loss: 0.0276 - val_acc: 0.9929\n",
      "Epoch 12/12\n",
      "60000/60000 [==============================] - 229s - loss: 0.0206 - acc: 0.9933 - val_loss: 0.0280 - val_acc: 0.9924\n",
      "Test loss: 0.0279801267666\n",
      "Test accuracy: 0.9924\n"
     ]
    }
   ],
   "source": [
    "# Здесь можно было бы заняться расширением выборки (это еще называется аугментация данных).\n",
    "# О том, как это делать в keras, можно почитать вот здесь: https://keras.io/preprocessing/image/\n",
    "# Поле применения аугментации здесь довольно ограничено, т.к. мы не можем поворачивать картинки на большой угол и отражать.\n",
    "# Разные небольшие преобразования к мелкой картинке могут привести к ее размытию настолько, что она не будет похожа на цифру\n",
    "# В общем, здесь аугментации просто не будет, но для больших картинок она крайне полезна\n",
    "\n",
    "hist = model.fit(x_train, y_train,\n",
    "          batch_size=batch_size,\n",
    "          epochs=epochs,\n",
    "          verbose=1,\n",
    "          validation_data=(x_test, y_test))\n",
    "score = model.evaluate(x_test, y_test, verbose=0)\n",
    "print('Test loss:', score[0])\n",
    "print('Test accuracy:', score[1])"
   ]
  },
  {
   "cell_type": "code",
   "execution_count": 12,
   "metadata": {},
   "outputs": [
    {
     "data": {
      "text/plain": [
       "<matplotlib.legend.Legend at 0x1565cfd0>"
      ]
     },
     "execution_count": 12,
     "metadata": {},
     "output_type": "execute_result"
    },
    {
     "data": {
      "image/png": "[encoded data removed]",
      "text/plain": [
       "<matplotlib.figure.Figure at 0x14e2aac8>"
      ]
     },
     "metadata": {},
     "output_type": "display_data"
    }
   ],
   "source": [
    "fig, ax = plt.subplots(1, 2, figsize=(15, 7))\n",
    "ax[0].plot(hist.history['loss'], label='loss')\n",
    "ax[0].plot(hist.history['val_loss'], label='val_loss')\n",
    "ax[0].legend()\n",
    "ax[1].plot(hist.history['acc'], label='acc')\n",
    "ax[1].plot(hist.history['val_acc'], label='val_acc')\n",
    "ax[1].legend()"
   ]
  },
  {
   "cell_type": "markdown",
   "metadata": {},
   "source": [
    "## Рекомендации\n",
    "* Участники соревнования часто выкладывают готовые варианты решения (https://www.kaggle.com/c/dog-breed-identification/kernels)\n",
    "* Когда делаете свою архитектуру, ищите вдохновение у готовых архитектур, например у VGG16 (https://github.com/fchollet/keras/blob/master/keras/applications/vgg16.py)\n",
    "* Используйте аугментации, они увеличивают обучающую выборку и делают решение более устойчивым: https://keras.io/preprocessing/image/. Основной критерий, что можно применять, а что нет, такой: если визуально кажется, что измененная картинка могла бы существовать в тесте, то все ок. Отражать по горизонтали картинки с собаками  -- правильно, отражать по горизонтали цифры -- неправильно.\n",
    "* Callbacks https://keras.io/callbacks/: \n",
    "  * Используйте ModelCheckpoint для того, чтобы автоматически сохранять наилучшие модели\n",
    "  * В kaggle-like задачах часто идет борьба за 3-4 знак после запятой. ReduceLROnPlateau позволяет уменьшать learning rate тогда, когда обучение с текущим lr останавливается"
   ]
  },
  {
   "cell_type": "code",
   "execution_count": 21,
   "metadata": {},
   "outputs": [
    {
     "data": {
      "text/plain": [
       "array([[ 0.,  0.,  0., ...,  1.,  0.,  0.],\n",
       "       [ 0.,  0.,  1., ...,  0.,  0.,  0.],\n",
       "       [ 0.,  1.,  0., ...,  0.,  0.,  0.],\n",
       "       ..., \n",
       "       [ 0.,  0.,  0., ...,  0.,  0.,  0.],\n",
       "       [ 0.,  0.,  0., ...,  0.,  0.,  0.],\n",
       "       [ 0.,  0.,  0., ...,  0.,  0.,  0.]])"
      ]
     },
     "execution_count": 21,
     "metadata": {},
     "output_type": "execute_result"
    }
   ],
   "source": [
    "y_test"
   ]
  },
  {
   "cell_type": "code",
   "execution_count": null,
   "metadata": {
    "collapsed": true
   },
   "outputs": [],
   "source": []
  }
 ],
 "metadata": {
  "kernelspec": {
   "display_name": "Python 3",
   "language": "python",
   "name": "python3"
  },
  "language_info": {
   "codemirror_mode": {
    "name": "ipython",
    "version": 3
   },
   "file_extension": ".py",
   "mimetype": "text/x-python",
   "name": "python",
   "nbconvert_exporter": "python",
   "pygments_lexer": "ipython3",
   "version": "3.6.1"
  }
 },
 "nbformat": 4,
 "nbformat_minor": 2
}
