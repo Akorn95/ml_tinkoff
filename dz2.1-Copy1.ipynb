{
 "cells": [
  {
   "cell_type": "code",
   "execution_count": 27,
   "metadata": {
    "collapsed": true
   },
   "outputs": [],
   "source": [
    "import pandas as pd              #Обработка табличных данных\n",
    "import numpy as np               #Алгоритмы линейной алгебры\n",
    "import matplotlib.pyplot as plt  #Различные способы визуализации\n",
    "\n",
    "\n",
    "%matplotlib inline\n",
    "import warnings\n",
    "warnings.filterwarnings(\"ignore\")"
   ]
  },
  {
   "cell_type": "code",
   "execution_count": 28,
   "metadata": {},
   "outputs": [
    {
     "name": "stdout",
     "output_type": "stream",
     "text": [
      "home_address_cd-->work_address_cd: r^2=0.740874\n",
      "work_address_cd-->home_address_cd: r^2=0.740874\n",
      "car_own_flg_Y-->car_type_flg_Y: r^2=0.700206\n",
      "car_type_flg_Y-->car_own_flg_Y: r^2=0.700206\n"
     ]
    }
   ],
   "source": [
    "df = pd.read_csv('application_info.csv', index_col='id')\n",
    "y = pd.read_csv('default_flg.csv', index_col='id')\n",
    "train_index    = df[df.sample_cd =='train'].sample_cd.index\n",
    "validate_index = df[df.sample_cd =='validate'].sample_cd.index\n",
    "train_valid= df[(df.sample_cd =='train')|(df.sample_cd =='validate')].sample_cd.index\n",
    "test_index     = df[df.sample_cd =='test'].sample_cd.index\n",
    "train_valid    = df[(df.sample_cd =='train')|(df.sample_cd =='validate')].sample_cd.index\n",
    "\n",
    "df.drop(['sample_cd','application_dt'],axis=1,inplace=True) #Удаляем два столбца из выборки\n",
    "category_columns = [col for col in df.columns if df.dtypes[col] == 'object']\n",
    "df.education_cd.fillna('SCH', inplace=True)\n",
    "data_category = pd.get_dummies(df[category_columns], drop_first=True)\n",
    "df.drop(category_columns, axis=1, inplace=True)\n",
    "df = pd.concat([df, data_category], axis=1)\n",
    "CorrKoef = df.corr()\n",
    "CorField = []\n",
    "for i in CorrKoef:\n",
    "    for j in CorrKoef.index[CorrKoef[i] > 0.6]:\n",
    "        if i!=j:\n",
    "            CorField.append(j)\n",
    "            print ('%s-->%s: r^2=%f' % (i,j, CorrKoef[i][CorrKoef.index==j].values[0]))"
   ]
  },
  {
   "cell_type": "code",
   "execution_count": 29,
   "metadata": {
    "collapsed": true
   },
   "outputs": [],
   "source": [
    "def WoE(target, feature, nbuck=10):\n",
    "    \"\"\"Функция, русующая зависимость WoE от среднего значения признака в бакете\"\"\"\n",
    "    #Копируем данные\n",
    "    df = pd.DataFrame()\n",
    "    df['target']  = target.copy()\n",
    "    df['feature'] = feature.copy()\n",
    "    #Считаем номер бакета\n",
    "    df['feature_buck'] = df['feature'].rank(method='min', pct=1, na_option = 'top').apply(\n",
    "        lambda x: int((x- 1/df.shape[0])*nbuck))\n",
    "    #Запоминаем среднее значение целевой переменной и кол-во наблюдений\n",
    "    tr  = df['target'].mean()\n",
    "    cnt = df['target'].count()\n",
    "    #Агрегируем по каждому бакету\n",
    "    df = df.groupby('feature_buck')['target' ].agg({'tr': 'mean','cnt': 'size'}).join(\n",
    "        df.groupby('feature_buck')['feature'].agg({'feature_av': 'mean'}))\n",
    "    #В случае крайних значений tr делаем сглаживание\n",
    "    df.tr = df.tr.apply(lambda x: max(0.001, min(0.999, x)))\n",
    "    #считаем WoE\n",
    "    df.eval('WoE = log(tr/@tr)-log((1-tr)/(1-@tr))', inplace=True)\n",
    "    #Погрешность WoE\n",
    "    df.eval('WoE_d = 2/sqrt(tr*(1-tr)*cnt)', inplace=True) \n",
    "    #убираем наблюдения с пустым значением признака\n",
    "    df.dropna(inplace=True)\n",
    "    #Рисуем график\n",
    "    fig = plt.gcf()\n",
    "    plt.grid(True)\n",
    "    plt.errorbar(df['feature_av'], df.WoE, yerr=np.array((df['WoE_d'])))\n",
    "    plt.xlabel('feature')\n",
    "    plt.ylabel('WoE')\n",
    "    plt.show()\n",
    "\n",
    "def IV(target, feature, nbuck=10):\n",
    "    \"\"\"Функция, возвращающая IV признака-feature с целевой переменной target\"\"\"\n",
    "    #Копируем данные\n",
    "    df = pd.DataFrame()\n",
    "    df['target']  = target.copy()\n",
    "    df['feature'] = feature.copy()\n",
    "    #Считаем номер бакета\n",
    "    df['feature_buck'] = df['feature'].rank(method='min', pct=1, na_option = 'top').apply(\n",
    "        lambda x: int((x- 1.0/df.shape[0])*nbuck))\n",
    "    #Запоминаем среднее значение целевой переменной и кол-во наблюдений\n",
    "    tr  = df['target'].mean()\n",
    "    cnt = df['target'].count()\n",
    "    #Агрегируем по каждому бакету\n",
    "    df = df.groupby('feature_buck')['target'].agg({'tr': 'mean','cnt': 'size'})\n",
    "    #В случае крайних значений tr делаем сглаживание\n",
    "    df.tr = df.tr.apply(lambda x: max(0.001, min(0.999, x)))\n",
    "    #Считаем IV\n",
    "    df.eval('IV = ( (tr/@tr) - ((1-tr)/(1-@tr))) * (log(tr/@tr) - log((1-tr)/(1-@tr)) ) * (cnt/@cnt)', inplace=True)\n",
    "    IV = df.IV.sum()\n",
    "    return IV"
   ]
  },
  {
   "cell_type": "code",
   "execution_count": 30,
   "metadata": {
    "collapsed": true
   },
   "outputs": [],
   "source": [
    "df['income'] = df.income.apply(lambda x: np.log(x))\n",
    "#df['age'] = df.age.apply(lambda x: np.log(x))\n",
    "df['home_address_cd'] = df.home_address_cd.apply(lambda x: int(x<2))\n",
    "df['SNA']=df.SNA.apply(lambda x: np.log(x))\n",
    "df['region_rating']=df.region_rating.apply(lambda x: np.log(x))"
   ]
  },
  {
   "cell_type": "markdown",
   "metadata": {},
   "source": [
    "#### Логистическая регрессия"
   ]
  },
  {
   "cell_type": "code",
   "execution_count": 5,
   "metadata": {},
   "outputs": [
    {
     "name": "stderr",
     "output_type": "stream",
     "text": [
      "C:\\ProgramData\\Anaconda3\\lib\\site-packages\\sklearn\\cross_validation.py:44: DeprecationWarning: This module was deprecated in version 0.18 in favor of the model_selection module into which all the refactored classes and functions are moved. Also note that the interface of the new CV iterators are different from that of this module. This module will be removed in 0.20.\n",
      "  \"This module will be removed in 0.20.\", DeprecationWarning)\n"
     ]
    }
   ],
   "source": [
    "from sklearn.linear_model import LogisticRegression\n",
    "from sklearn.metrics import roc_auc_score\n",
    "from sklearn import cross_validation, svm\n",
    "from sklearn.neighbors import KNeighborsClassifier\n",
    "from sklearn.ensemble import RandomForestClassifier, GradientBoostingClassifier\n",
    "from sklearn.naive_bayes import GaussianNB\n",
    "\n",
    "\n",
    "from sklearn.metrics import roc_curve, auc\n",
    "import pylab as pl"
   ]
  },
  {
   "cell_type": "code",
   "execution_count": 18,
   "metadata": {
    "collapsed": true
   },
   "outputs": [],
   "source": []
  },
  {
   "cell_type": "code",
   "execution_count": 37,
   "metadata": {},
   "outputs": [],
   "source": []
  },
  {
   "cell_type": "code",
   "execution_count": 35,
   "metadata": {},
   "outputs": [
    {
     "name": "stdout",
     "output_type": "stream",
     "text": [
      "0.10974374576408974\n",
      "0.10279484257106726\n",
      "0.10974374576408974\n"
     ]
    }
   ],
   "source": [
    "print (IV(y.loc[train_index].default_flg, df.loc[train_index].appl_rej_cnt, nbuck=10))\n",
    "print (IV(y.loc[train_index].default_flg, df.loc[train_index].appl_rej_cnt.apply(lambda x: int(x <1)), nbuck=10))\n",
    "print (IV(y.loc[train_index].default_flg, df.loc[train_index].appl_rej_cnt.apply(lambda x: np.log(x)), nbuck=10))"
   ]
  },
  {
   "cell_type": "code",
   "execution_count": 38,
   "metadata": {},
   "outputs": [
    {
     "name": "stdout",
     "output_type": "stream",
     "text": [
      "0.763284 0.719684 \n"
     ]
    }
   ],
   "source": [
    "#GB\n",
    "model_GBC = GradientBoostingClassifier(max_depth =5)\n",
    "model_GBC.fit(df.loc[train_index], y.loc[train_index].default_flg)\n",
    "AUC_train = roc_auc_score(y.loc[train_index].default_flg, model_GBC.predict_proba(df.loc[train_index])[:,1])\n",
    "AUC_validate = roc_auc_score(y.loc[validate_index].default_flg, model_GBC.predict_proba(df.loc[validate_index])[:,1])\n",
    "print('%.6f %.6f ' %  (AUC_train, AUC_validate))"
   ]
  },
  {
   "cell_type": "code",
   "execution_count": null,
   "metadata": {
    "collapsed": true
   },
   "outputs": [],
   "source": [
    "0.761730 0.719217 5.000000\n",
    "age 0.761730 0.719340 5.000000\n",
    "+home 0.760745 0.720149 5.000000\n",
    "+SNA 0.760417 0.716843 5.000000\n",
    "+log SNA 0.760745 0.720173 5.000000\\0.763114 0.721024 \n",
    "\n",
    "0.763114 0.720948  best try"
   ]
  },
  {
   "cell_type": "code",
   "execution_count": 66,
   "metadata": {
    "collapsed": true
   },
   "outputs": [],
   "source": [
    "tmp=df.copy"
   ]
  },
  {
   "cell_type": "code",
   "execution_count": 43,
   "metadata": {},
   "outputs": [
    {
     "data": {
      "text/plain": [
       "144652.8"
      ]
     },
     "execution_count": 43,
     "metadata": {},
     "output_type": "execute_result"
    }
   ],
   "source": [
    "180816/5*5\n",
    "14465"
   ]
  },
  {
   "cell_type": "markdown",
   "metadata": {},
   "source": [
    "#cross-valid"
   ]
  },
  {
   "cell_type": "code",
   "execution_count": 46,
   "metadata": {},
   "outputs": [
    {
     "data": {
      "text/html": [
       "<div>\n",
       "<style>\n",
       "    .dataframe thead tr:only-child th {\n",
       "        text-align: right;\n",
       "    }\n",
       "\n",
       "    .dataframe thead th {\n",
       "        text-align: left;\n",
       "    }\n",
       "\n",
       "    .dataframe tbody tr th {\n",
       "        vertical-align: top;\n",
       "    }\n",
       "</style>\n",
       "<table border=\"1\" class=\"dataframe\">\n",
       "  <thead>\n",
       "    <tr style=\"text-align: right;\">\n",
       "      <th></th>\n",
       "      <th>1</th>\n",
       "      <th>2</th>\n",
       "      <th>3</th>\n",
       "      <th>4</th>\n",
       "      <th>5</th>\n",
       "    </tr>\n",
       "    <tr>\n",
       "      <th>id</th>\n",
       "      <th></th>\n",
       "      <th></th>\n",
       "      <th></th>\n",
       "      <th></th>\n",
       "      <th></th>\n",
       "    </tr>\n",
       "  </thead>\n",
       "  <tbody>\n",
       "    <tr>\n",
       "      <th>180817</th>\n",
       "      <td>0.088132</td>\n",
       "      <td>0.081459</td>\n",
       "      <td>0.075695</td>\n",
       "      <td>0.095220</td>\n",
       "      <td>0.084646</td>\n",
       "    </tr>\n",
       "    <tr>\n",
       "      <th>180818</th>\n",
       "      <td>0.127968</td>\n",
       "      <td>0.156485</td>\n",
       "      <td>0.149582</td>\n",
       "      <td>0.133868</td>\n",
       "      <td>0.108715</td>\n",
       "    </tr>\n",
       "    <tr>\n",
       "      <th>180819</th>\n",
       "      <td>0.068228</td>\n",
       "      <td>0.071375</td>\n",
       "      <td>0.094486</td>\n",
       "      <td>0.048655</td>\n",
       "      <td>0.076838</td>\n",
       "    </tr>\n",
       "    <tr>\n",
       "      <th>180820</th>\n",
       "      <td>0.094123</td>\n",
       "      <td>0.096569</td>\n",
       "      <td>0.116317</td>\n",
       "      <td>0.077346</td>\n",
       "      <td>0.075640</td>\n",
       "    </tr>\n",
       "    <tr>\n",
       "      <th>180821</th>\n",
       "      <td>0.053462</td>\n",
       "      <td>0.055990</td>\n",
       "      <td>0.061577</td>\n",
       "      <td>0.059218</td>\n",
       "      <td>0.057130</td>\n",
       "    </tr>\n",
       "  </tbody>\n",
       "</table>\n",
       "</div>"
      ],
      "text/plain": [
       "               1         2         3         4         5\n",
       "id                                                      \n",
       "180817  0.088132  0.081459  0.075695  0.095220  0.084646\n",
       "180818  0.127968  0.156485  0.149582  0.133868  0.108715\n",
       "180819  0.068228  0.071375  0.094486  0.048655  0.076838\n",
       "180820  0.094123  0.096569  0.116317  0.077346  0.075640\n",
       "180821  0.053462  0.055990  0.061577  0.059218  0.057130"
      ]
     },
     "execution_count": 46,
     "metadata": {},
     "output_type": "execute_result"
    }
   ],
   "source": []
  },
  {
   "cell_type": "code",
   "execution_count": 44,
   "metadata": {
    "collapsed": true
   },
   "outputs": [],
   "source": []
  },
  {
   "cell_type": "code",
   "execution_count": 52,
   "metadata": {},
   "outputs": [
    {
     "data": {
      "text/plain": [
       "1    0.054975\n",
       "2    0.054538\n",
       "3    0.056775\n",
       "4    0.054259\n",
       "5    0.052743\n",
       "dtype: float64"
      ]
     },
     "execution_count": 52,
     "metadata": {},
     "output_type": "execute_result"
    }
   ],
   "source": [
    "p6=pd.DataFrame((pred['1']+pred['2']+pred['3']+pred['4']+pred['5'])/5)\n",
    "p6.head()"
   ]
  },
  {
   "cell_type": "code",
   "execution_count": 38,
   "metadata": {},
   "outputs": [
    {
     "data": {
      "text/plain": [
       "0.72084797710094184"
      ]
     },
     "execution_count": 38,
     "metadata": {},
     "output_type": "execute_result"
    }
   ],
   "source": [
    "roc_auc_score(y.loc[validate_index].default_flg, p6.loc[validate_index])"
   ]
  },
  {
   "cell_type": "code",
   "execution_count": 8,
   "metadata": {},
   "outputs": [
    {
     "data": {
      "text/plain": [
       "Int64Index([    1,     2,     3,     4,     5,     6,     7,     8,     9,\n",
       "               10,\n",
       "            ...\n",
       "            66080, 66081, 66082, 66083, 66084, 66085, 66086, 66087, 66088,\n",
       "            66089],\n",
       "           dtype='int64', name='id', length=66089)"
      ]
     },
     "execution_count": 8,
     "metadata": {},
     "output_type": "execute_result"
    }
   ],
   "source": [
    "\n",
    "AUC_validate = roc_auc_score(y.loc[validate_index].default_flg, model_GBC.predict_proba(df.loc[validate_index])[:,1])\n",
    "print('%.6f %.6f ' %  (AUC_train, AUC_validate))"
   ]
  },
  {
   "cell_type": "markdown",
   "metadata": {},
   "source": [
    "# final"
   ]
  },
  {
   "cell_type": "code",
   "execution_count": 32,
   "metadata": {},
   "outputs": [
    {
     "data": {
      "text/plain": [
       "0.73201600878449136"
      ]
     },
     "execution_count": 32,
     "metadata": {},
     "output_type": "execute_result"
    }
   ],
   "source": [
    "model_GBC = GradientBoostingClassifier(max_depth =5)\n",
    "model_GBC.fit(df.loc[train_valid], y.loc[train_valid].default_flg)\n",
    "test_pd = model_GBC.predict_proba(df.loc[test_index])[:,1]\n",
    "test_pd.max()"
   ]
  },
  {
   "cell_type": "code",
   "execution_count": 33,
   "metadata": {
    "collapsed": true
   },
   "outputs": [],
   "source": [
    "test_pd = pd.DataFrame(test_pd, columns=['score'], index=test_index)\n",
    "test_pd.to_csv('my_submission.csv')"
   ]
  },
  {
   "cell_type": "code",
   "execution_count": 50,
   "metadata": {},
   "outputs": [
    {
     "data": {
      "text/html": [
       "<div>\n",
       "<style>\n",
       "    .dataframe thead tr:only-child th {\n",
       "        text-align: right;\n",
       "    }\n",
       "\n",
       "    .dataframe thead th {\n",
       "        text-align: left;\n",
       "    }\n",
       "\n",
       "    .dataframe tbody tr th {\n",
       "        vertical-align: top;\n",
       "    }\n",
       "</style>\n",
       "<table border=\"1\" class=\"dataframe\">\n",
       "  <thead>\n",
       "    <tr style=\"text-align: right;\">\n",
       "      <th></th>\n",
       "      <th>0</th>\n",
       "    </tr>\n",
       "    <tr>\n",
       "      <th>id</th>\n",
       "      <th></th>\n",
       "    </tr>\n",
       "  </thead>\n",
       "  <tbody>\n",
       "    <tr>\n",
       "      <th>180817</th>\n",
       "      <td>0.085030</td>\n",
       "    </tr>\n",
       "    <tr>\n",
       "      <th>180818</th>\n",
       "      <td>0.135324</td>\n",
       "    </tr>\n",
       "    <tr>\n",
       "      <th>180819</th>\n",
       "      <td>0.071916</td>\n",
       "    </tr>\n",
       "    <tr>\n",
       "      <th>180820</th>\n",
       "      <td>0.091999</td>\n",
       "    </tr>\n",
       "    <tr>\n",
       "      <th>180821</th>\n",
       "      <td>0.057475</td>\n",
       "    </tr>\n",
       "  </tbody>\n",
       "</table>\n",
       "</div>"
      ],
      "text/plain": [
       "               0\n",
       "id              \n",
       "180817  0.085030\n",
       "180818  0.135324\n",
       "180819  0.071916\n",
       "180820  0.091999\n",
       "180821  0.057475"
      ]
     },
     "execution_count": 50,
     "metadata": {},
     "output_type": "execute_result"
    }
   ],
   "source": [
    "\n",
    "p6.to_csv('my_submission.csv')\n",
    "p6.head()"
   ]
  },
  {
   "cell_type": "code",
   "execution_count": 168,
   "metadata": {},
   "outputs": [
    {
     "data": {
      "text/html": [
       "<div>\n",
       "<style>\n",
       "    .dataframe thead tr:only-child th {\n",
       "        text-align: right;\n",
       "    }\n",
       "\n",
       "    .dataframe thead th {\n",
       "        text-align: left;\n",
       "    }\n",
       "\n",
       "    .dataframe tbody tr th {\n",
       "        vertical-align: top;\n",
       "    }\n",
       "</style>\n",
       "<table border=\"1\" class=\"dataframe\">\n",
       "  <thead>\n",
       "    <tr style=\"text-align: right;\">\n",
       "      <th></th>\n",
       "      <th>score</th>\n",
       "    </tr>\n",
       "    <tr>\n",
       "      <th>id</th>\n",
       "      <th></th>\n",
       "    </tr>\n",
       "  </thead>\n",
       "  <tbody>\n",
       "    <tr>\n",
       "      <th>180817</th>\n",
       "      <td>0.070596</td>\n",
       "    </tr>\n",
       "    <tr>\n",
       "      <th>180818</th>\n",
       "      <td>0.136011</td>\n",
       "    </tr>\n",
       "    <tr>\n",
       "      <th>180819</th>\n",
       "      <td>0.069017</td>\n",
       "    </tr>\n",
       "    <tr>\n",
       "      <th>180820</th>\n",
       "      <td>0.076142</td>\n",
       "    </tr>\n",
       "    <tr>\n",
       "      <th>180821</th>\n",
       "      <td>0.056463</td>\n",
       "    </tr>\n",
       "  </tbody>\n",
       "</table>\n",
       "</div>"
      ],
      "text/plain": [
       "           score\n",
       "id              \n",
       "180817  0.070596\n",
       "180818  0.136011\n",
       "180819  0.069017\n",
       "180820  0.076142\n",
       "180821  0.056463"
      ]
     },
     "execution_count": 168,
     "metadata": {},
     "output_type": "execute_result"
    }
   ],
   "source": [
    "test_pd.head()"
   ]
  },
  {
   "cell_type": "code",
   "execution_count": 240,
   "metadata": {
    "scrolled": true
   },
   "outputs": [
    {
     "name": "stdout",
     "output_type": "stream",
     "text": [
      "   Train Validate    n\n",
      "0.751094 0.720173 4.000000\n",
      "0.763114 0.720981 5.000000\n",
      "0.780682 0.719704 6.000000\n"
     ]
    }
   ],
   "source": [
    "#GB\n",
    "print ('%8s %8s %4s' % ('Train','Validate','n'))\n",
    "for n in [4,5,6]:\n",
    "    model_GBC = GradientBoostingClassifier(max_depth =n)\n",
    "    model_GBC.fit(df.loc[train_index], y.loc[train_index].default_flg)\n",
    "    AUC_train = roc_auc_score(y.loc[train_index].default_flg, model_GBC.predict_proba(df.loc[train_index])[:,1])\n",
    "    AUC_validate = roc_auc_score(y.loc[validate_index].default_flg, model_GBC.predict_proba(df.loc[validate_index])[:,1])\n",
    "    print('%.6f %.6f %f' %  (AUC_train, AUC_validate, n))"
   ]
  },
  {
   "cell_type": "code",
   "execution_count": 34,
   "metadata": {},
   "outputs": [
    {
     "name": "stdout",
     "output_type": "stream",
     "text": [
      "   Train Validate    C\n",
      "0.630605 0.620242 0.000010\n",
      "0.705415 0.682263 0.000100\n",
      "0.729035 0.711230 0.001000\n",
      "0.730102 0.715028 0.010000\n",
      "0.730218 0.715564 0.100000\n",
      "0.730202 0.715605 1.000000\n",
      "0.730198 0.715606 10.000000\n",
      "0.730198 0.715601 100.000000\n"
     ]
    }
   ],
   "source": [
    "#LR\n",
    "print ('%8s %8s %4s' % ('Train','Validate','C'))\n",
    "for C in [0.00001, 0.0001, 0.001, 0.01, 0.1, 1, 10, 100]:\n",
    "    LR = LogisticRegression(C=C, penalty='l2')\n",
    "    LR.fit(df.loc[train_index], y.loc[train_index].default_flg)\n",
    "    AUC_train = roc_auc_score(y.loc[train_index].default_flg, LR.predict_proba(df.loc[train_index])[:,1])\n",
    "    AUC_validate = roc_auc_score(y.loc[validate_index].default_flg, LR.predict_proba(df.loc[validate_index])[:,1])\n",
    "    print('%.6f %.6f %f' %  (AUC_train, AUC_validate, C))"
   ]
  },
  {
   "cell_type": "code",
   "execution_count": null,
   "metadata": {
    "collapsed": true
   },
   "outputs": [],
   "source": []
  }
 ],
 "metadata": {
  "kernelspec": {
   "display_name": "Python 3",
   "language": "python",
   "name": "python3"
  },
  "language_info": {
   "codemirror_mode": {
    "name": "ipython",
    "version": 3
   },
   "file_extension": ".py",
   "mimetype": "text/x-python",
   "name": "python",
   "nbconvert_exporter": "python",
   "pygments_lexer": "ipython3",
   "version": "3.6.1"
  }
 },
 "nbformat": 4,
 "nbformat_minor": 1
}
