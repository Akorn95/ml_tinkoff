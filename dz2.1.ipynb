{
 "cells": [
  {
   "cell_type": "code",
   "execution_count": 1,
   "metadata": {
    "collapsed": true
   },
   "outputs": [],
   "source": [
    "import pandas as pd              #Обработка табличных данных\n",
    "import numpy as np               #Алгоритмы линейной алгебры\n",
    "import matplotlib.pyplot as plt  #Различные способы визуализации\n",
    "\n",
    "\n",
    "%matplotlib inline\n",
    "import warnings\n",
    "warnings.filterwarnings(\"ignore\")"
   ]
  },
  {
   "cell_type": "markdown",
   "metadata": {},
   "source": [
    "#### Предобработка данных"
   ]
  },
  {
   "cell_type": "markdown",
   "metadata": {},
   "source": [
    "Считываем данные из csv файла"
   ]
  },
  {
   "cell_type": "code",
   "execution_count": 2,
   "metadata": {
    "collapsed": true
   },
   "outputs": [],
   "source": [
    "df = pd.read_csv('application_info.csv', index_col='id')\n",
    "y = pd.read_csv('default_flg.csv', index_col='id')"
   ]
  },
  {
   "cell_type": "code",
   "execution_count": 3,
   "metadata": {
    "collapsed": true
   },
   "outputs": [],
   "source": [
    "train_index    = df[df.sample_cd =='train'].sample_cd.index\n",
    "validate_index = df[df.sample_cd =='validate'].sample_cd.index\n",
    "# индекс чтоб по-больше обучить выборку в конце\n",
    "train_valid= df[(df.sample_cd =='train')|(df.sample_cd =='validate')].sample_cd.index\n",
    "test_index     = df[df.sample_cd =='test'].sample_cd.index\n",
    "train_valid    = df[(df.sample_cd =='train')|(df.sample_cd =='validate')].sample_cd.index\n",
    "\n",
    "df.drop(['sample_cd','application_dt'],axis=1,inplace=True) #Удаляем два столбца из выборки"
   ]
  },
  {
   "cell_type": "markdown",
   "metadata": {},
   "source": [
    "Список категориальных полей"
   ]
  },
  {
   "cell_type": "code",
   "execution_count": 4,
   "metadata": {
    "collapsed": true
   },
   "outputs": [],
   "source": [
    "category_columns = [col for col in df.columns if df.dtypes[col] == 'object']\n",
    "df.education_cd.fillna('SCH', inplace=True)"
   ]
  },
  {
   "cell_type": "markdown",
   "metadata": {},
   "source": [
    "Производим dummy кодирование не числовых полей"
   ]
  },
  {
   "cell_type": "code",
   "execution_count": 5,
   "metadata": {
    "collapsed": true
   },
   "outputs": [],
   "source": [
    "data_category = pd.get_dummies(df[category_columns], drop_first=True)"
   ]
  },
  {
   "cell_type": "markdown",
   "metadata": {},
   "source": [
    "Заменяем не числовые поля на dummy кодированные"
   ]
  },
  {
   "cell_type": "code",
   "execution_count": 6,
   "metadata": {
    "scrolled": true
   },
   "outputs": [
    {
     "data": {
      "text/html": [
       "<div>\n",
       "<style>\n",
       "    .dataframe thead tr:only-child th {\n",
       "        text-align: right;\n",
       "    }\n",
       "\n",
       "    .dataframe thead th {\n",
       "        text-align: left;\n",
       "    }\n",
       "\n",
       "    .dataframe tbody tr th {\n",
       "        vertical-align: top;\n",
       "    }\n",
       "</style>\n",
       "<table border=\"1\" class=\"dataframe\">\n",
       "  <thead>\n",
       "    <tr style=\"text-align: right;\">\n",
       "      <th></th>\n",
       "      <th>age</th>\n",
       "      <th>appl_rej_cnt</th>\n",
       "      <th>good_work_flg</th>\n",
       "      <th>Score_bki</th>\n",
       "      <th>out_request_cnt</th>\n",
       "      <th>region_rating</th>\n",
       "      <th>home_address_cd</th>\n",
       "      <th>work_address_cd</th>\n",
       "      <th>income</th>\n",
       "      <th>SNA</th>\n",
       "      <th>first_time_cd</th>\n",
       "      <th>education_cd_GRD</th>\n",
       "      <th>education_cd_PGR</th>\n",
       "      <th>education_cd_SCH</th>\n",
       "      <th>education_cd_UGR</th>\n",
       "      <th>gender_cd_M</th>\n",
       "      <th>car_own_flg_Y</th>\n",
       "      <th>car_type_flg_Y</th>\n",
       "      <th>Air_flg_Y</th>\n",
       "    </tr>\n",
       "    <tr>\n",
       "      <th>id</th>\n",
       "      <th></th>\n",
       "      <th></th>\n",
       "      <th></th>\n",
       "      <th></th>\n",
       "      <th></th>\n",
       "      <th></th>\n",
       "      <th></th>\n",
       "      <th></th>\n",
       "      <th></th>\n",
       "      <th></th>\n",
       "      <th></th>\n",
       "      <th></th>\n",
       "      <th></th>\n",
       "      <th></th>\n",
       "      <th></th>\n",
       "      <th></th>\n",
       "      <th></th>\n",
       "      <th></th>\n",
       "      <th></th>\n",
       "    </tr>\n",
       "  </thead>\n",
       "  <tbody>\n",
       "    <tr>\n",
       "      <th>1</th>\n",
       "      <td>27</td>\n",
       "      <td>0</td>\n",
       "      <td>0</td>\n",
       "      <td>-1.917831</td>\n",
       "      <td>0</td>\n",
       "      <td>40</td>\n",
       "      <td>2</td>\n",
       "      <td>3</td>\n",
       "      <td>32000</td>\n",
       "      <td>1</td>\n",
       "      <td>4</td>\n",
       "      <td>0</td>\n",
       "      <td>0</td>\n",
       "      <td>1</td>\n",
       "      <td>0</td>\n",
       "      <td>1</td>\n",
       "      <td>1</td>\n",
       "      <td>1</td>\n",
       "      <td>0</td>\n",
       "    </tr>\n",
       "    <tr>\n",
       "      <th>2</th>\n",
       "      <td>26</td>\n",
       "      <td>0</td>\n",
       "      <td>0</td>\n",
       "      <td>-1.153144</td>\n",
       "      <td>2</td>\n",
       "      <td>60</td>\n",
       "      <td>2</td>\n",
       "      <td>3</td>\n",
       "      <td>50000</td>\n",
       "      <td>2</td>\n",
       "      <td>1</td>\n",
       "      <td>1</td>\n",
       "      <td>0</td>\n",
       "      <td>0</td>\n",
       "      <td>0</td>\n",
       "      <td>0</td>\n",
       "      <td>0</td>\n",
       "      <td>0</td>\n",
       "      <td>0</td>\n",
       "    </tr>\n",
       "  </tbody>\n",
       "</table>\n",
       "</div>"
      ],
      "text/plain": [
       "    age  appl_rej_cnt  good_work_flg  Score_bki  out_request_cnt  \\\n",
       "id                                                                 \n",
       "1    27             0              0  -1.917831                0   \n",
       "2    26             0              0  -1.153144                2   \n",
       "\n",
       "    region_rating  home_address_cd  work_address_cd  income  SNA  \\\n",
       "id                                                                 \n",
       "1              40                2                3   32000    1   \n",
       "2              60                2                3   50000    2   \n",
       "\n",
       "    first_time_cd  education_cd_GRD  education_cd_PGR  education_cd_SCH  \\\n",
       "id                                                                        \n",
       "1               4                 0                 0                 1   \n",
       "2               1                 1                 0                 0   \n",
       "\n",
       "    education_cd_UGR  gender_cd_M  car_own_flg_Y  car_type_flg_Y  Air_flg_Y  \n",
       "id                                                                           \n",
       "1                  0            1              1               1          0  \n",
       "2                  0            0              0               0          0  "
      ]
     },
     "execution_count": 6,
     "metadata": {},
     "output_type": "execute_result"
    }
   ],
   "source": [
    "df.drop(category_columns, axis=1, inplace=True)\n",
    "df = pd.concat([df, data_category], axis=1)\n",
    "df.head(2)"
   ]
  },
  {
   "cell_type": "code",
   "execution_count": 7,
   "metadata": {},
   "outputs": [
    {
     "ename": "SyntaxError",
     "evalue": "invalid syntax (<ipython-input-7-b1211aab25e7>, line 1)",
     "output_type": "error",
     "traceback": [
      "\u001b[1;36m  File \u001b[1;32m\"<ipython-input-7-b1211aab25e7>\"\u001b[1;36m, line \u001b[1;32m1\u001b[0m\n\u001b[1;33m    Посмотрим на корреляцию:\u001b[0m\n\u001b[1;37m               ^\u001b[0m\n\u001b[1;31mSyntaxError\u001b[0m\u001b[1;31m:\u001b[0m invalid syntax\n"
     ]
    }
   ],
   "source": [
    "Посмотрим на корреляцию:\n",
    "не большая она, попробовала выкинуть что-то - auc упал"
   ]
  },
  {
   "cell_type": "code",
   "execution_count": 8,
   "metadata": {},
   "outputs": [
    {
     "name": "stdout",
     "output_type": "stream",
     "text": [
      "home_address_cd-->work_address_cd: r^2=0.740874\n",
      "work_address_cd-->home_address_cd: r^2=0.740874\n",
      "car_own_flg_Y-->car_type_flg_Y: r^2=0.700206\n",
      "car_type_flg_Y-->car_own_flg_Y: r^2=0.700206\n"
     ]
    }
   ],
   "source": [
    "CorrKoef = df.corr()\n",
    "CorField = []\n",
    "for i in CorrKoef:\n",
    "    for j in CorrKoef.index[CorrKoef[i] > 0.6]:\n",
    "        if i!=j:\n",
    "            CorField.append(j)\n",
    "            print ('%s-->%s: r^2=%f' % (i,j, CorrKoef[i][CorrKoef.index==j].values[0]))"
   ]
  },
  {
   "cell_type": "markdown",
   "metadata": {},
   "source": [
    "# Вспомогательные функции\n",
    "\n",
    "\n",
    "##### WoE (weight of evidence)\n",
    " - На вход подается бинарная целевая переменная $target$, признак $feature$ и количество бакетов $k$\n",
    " - Признак разбивается на бакеты  с номерами $0 \\le i \\le k$. \n",
    " - Считаем долю значений целевой переменной $tr$ и количество наблюдений $cnt$\n",
    " - Считаем $WoE_i = \\ln\\left(\\frac{tr_i}{tr}\\right) - \\ln\\left(\\frac{1-tr_i}{1-tr}\\right)$\n",
    " - Рисуем зависимость $WoE_i$ от среднего значения признака в бакте\n",
    " \n",
    "###### IV (Information Value)\n",
    " - На вход подается бинарная целевая переменная $target$, признак $feature$ и количество бакетов $k$\n",
    " - Признак разбивается на бакеты  с номерами $0 \\le i \\le k$. \n",
    " - Считаем долю значений целевой переменной $tr$ и количество наблюдений $cnt$\n",
    " - Считаем долю значений целевой переменной в каждом бакете $tr_i$ и количество наблюдений в каждом бакете $cnt_i$\n",
    " - Считается $ IV = \\sum\\limits_{i}{\\left(\\frac{tr_i}{tr} - \\frac{1-tr_i}{1-tr}\\right)\\left(\\ln\\left(\\frac{tr_i}{tr}\\right) - \\ln\\left(\\frac{1-tr_i}{1-tr}\\right)\\right)\\left(\\frac{cnt_i}{cnt}\\right)}$\n",
    " - Слагаемые, в которых $tr_i=0$ или $tr_i=1$, сглаживаем до $tr_i=0.001$ и $tr_i=0.999$ соответственно"
   ]
  },
  {
   "cell_type": "code",
   "execution_count": 9,
   "metadata": {
    "collapsed": true
   },
   "outputs": [],
   "source": [
    "def WoE(target, feature, nbuck=10):\n",
    "    \"\"\"Функция, русующая зависимость WoE от среднего значения признака в бакете\"\"\"\n",
    "    #Копируем данные\n",
    "    df = pd.DataFrame()\n",
    "    df['target']  = target.copy()\n",
    "    df['feature'] = feature.copy()\n",
    "    #Считаем номер бакета\n",
    "    df['feature_buck'] = df['feature'].rank(method='min', pct=1, na_option = 'top').apply(\n",
    "        lambda x: int((x- 1/df.shape[0])*nbuck))\n",
    "    #Запоминаем среднее значение целевой переменной и кол-во наблюдений\n",
    "    tr  = df['target'].mean()\n",
    "    cnt = df['target'].count()\n",
    "    #Агрегируем по каждому бакету\n",
    "    df = df.groupby('feature_buck')['target' ].agg({'tr': 'mean','cnt': 'size'}).join(\n",
    "        df.groupby('feature_buck')['feature'].agg({'feature_av': 'mean'}))\n",
    "    #В случае крайних значений tr делаем сглаживание\n",
    "    df.tr = df.tr.apply(lambda x: max(0.001, min(0.999, x)))\n",
    "    #считаем WoE\n",
    "    df.eval('WoE = log(tr/@tr)-log((1-tr)/(1-@tr))', inplace=True)\n",
    "    #Погрешность WoE\n",
    "    df.eval('WoE_d = 2/sqrt(tr*(1-tr)*cnt)', inplace=True) \n",
    "    #убираем наблюдения с пустым значением признака\n",
    "    df.dropna(inplace=True)\n",
    "    #Рисуем график\n",
    "    fig = plt.gcf()\n",
    "    plt.grid(True)\n",
    "    plt.errorbar(df['feature_av'], df.WoE, yerr=np.array((df['WoE_d'])))\n",
    "    plt.xlabel('feature')\n",
    "    plt.ylabel('WoE')\n",
    "    plt.show()\n",
    "\n",
    "def IV(target, feature, nbuck=10):\n",
    "    \"\"\"Функция, возвращающая IV признака-feature с целевой переменной target\"\"\"\n",
    "    #Копируем данные\n",
    "    df = pd.DataFrame()\n",
    "    df['target']  = target.copy()\n",
    "    df['feature'] = feature.copy()\n",
    "    #Считаем номер бакета\n",
    "    df['feature_buck'] = df['feature'].rank(method='min', pct=1, na_option = 'top').apply(\n",
    "        lambda x: int((x- 1.0/df.shape[0])*nbuck))\n",
    "    #Запоминаем среднее значение целевой переменной и кол-во наблюдений\n",
    "    tr  = df['target'].mean()\n",
    "    cnt = df['target'].count()\n",
    "    #Агрегируем по каждому бакету\n",
    "    df = df.groupby('feature_buck')['target'].agg({'tr': 'mean','cnt': 'size'})\n",
    "    #В случае крайних значений tr делаем сглаживание\n",
    "    df.tr = df.tr.apply(lambda x: max(0.001, min(0.999, x)))\n",
    "    #Считаем IV\n",
    "    df.eval('IV = ( (tr/@tr) - ((1-tr)/(1-@tr))) * (log(tr/@tr) - log((1-tr)/(1-@tr)) ) * (cnt/@cnt)', inplace=True)\n",
    "    IV = df.IV.sum()\n",
    "    return IV"
   ]
  },
  {
   "cell_type": "markdown",
   "metadata": {},
   "source": [
    "#### WoE"
   ]
  },
  {
   "cell_type": "markdown",
   "metadata": {},
   "source": [
    "Зависимость WoE от признака"
   ]
  },
  {
   "cell_type": "markdown",
   "metadata": {},
   "source": [
    "#### собственно дальше очень долго нормализуем признаки, пытаемя выявить лог-нормальные распределения, ну и на флаги заменить.в принципе, после смены логистической регресси на градиентный бустинг это стало довольно сильно влиять (что странно)"
   ]
  },
  {
   "cell_type": "code",
   "execution_count": 10,
   "metadata": {},
   "outputs": [
    {
     "data": {
      "image/png": "[encoded data removed]",
      "text/plain": [
       "<matplotlib.figure.Figure at 0x9c30029518>"
      ]
     },
     "metadata": {},
     "output_type": "display_data"
    }
   ],
   "source": [
    "WoE(y.loc[train_index].default_flg, df.loc[train_index].Score_bki, nbuck=20)"
   ]
  },
  {
   "cell_type": "markdown",
   "metadata": {},
   "source": [
    "Считаем IV"
   ]
  },
  {
   "cell_type": "code",
   "execution_count": 11,
   "metadata": {},
   "outputs": [
    {
     "data": {
      "text/plain": [
       "0.283108532383257"
      ]
     },
     "execution_count": 11,
     "metadata": {},
     "output_type": "execute_result"
    }
   ],
   "source": [
    "IV(y.loc[train_index].default_flg, df.loc[train_index].Score_bki, nbuck=20)"
   ]
  },
  {
   "cell_type": "code",
   "execution_count": 12,
   "metadata": {},
   "outputs": [
    {
     "data": {
      "image/png": "[encoded data removed]",
      "text/plain": [
       "<matplotlib.figure.Figure at 0x9c347d6160>"
      ]
     },
     "metadata": {},
     "output_type": "display_data"
    }
   ],
   "source": [
    "df.income.plot.hist(bins=50);"
   ]
  },
  {
   "cell_type": "markdown",
   "metadata": {},
   "source": [
    "У признака доход зависимость WoE не такая линейная, как у Score_bki."
   ]
  },
  {
   "cell_type": "code",
   "execution_count": 13,
   "metadata": {},
   "outputs": [
    {
     "data": {
      "image/png": "[encoded data removed]",
      "text/plain": [
       "<matplotlib.figure.Figure at 0x9c33e7c358>"
      ]
     },
     "metadata": {},
     "output_type": "display_data"
    }
   ],
   "source": [
    "WoE(y.loc[train_index].default_flg, df.loc[train_index].income, nbuck=10)"
   ]
  },
  {
   "cell_type": "markdown",
   "metadata": {},
   "source": [
    "Посчитаем IV от различных преобразований поля income"
   ]
  },
  {
   "cell_type": "code",
   "execution_count": 14,
   "metadata": {},
   "outputs": [
    {
     "name": "stdout",
     "output_type": "stream",
     "text": [
      "0.03837794897479724\n",
      "0.03837794897479724\n",
      "0.03354139550049351\n"
     ]
    }
   ],
   "source": [
    "print (IV(y.loc[train_index].default_flg, df.loc[train_index].income, nbuck=10))\n",
    "print (IV(y.loc[train_index].default_flg, df.loc[train_index].income.apply(lambda x: np.log(x)), nbuck=10))\n",
    "print (IV(y.loc[train_index].default_flg, df.loc[train_index].income.apply(lambda x: int(x > 40000)), nbuck=10))"
   ]
  },
  {
   "cell_type": "code",
   "execution_count": 15,
   "metadata": {
    "collapsed": true
   },
   "outputs": [],
   "source": [
    "df['income'] = df.income.apply(lambda x: np.log(x))"
   ]
  },
  {
   "cell_type": "markdown",
   "metadata": {},
   "source": [
    "Видно, что iv у флага \"доход > 40000\" не сильно меньше, поэтому вводим флаг в замен старого признака."
   ]
  },
  {
   "cell_type": "markdown",
   "metadata": {
    "collapsed": true
   },
   "source": [
    "df['income_40k_flg'] = df.income.apply(lambda x: int(x > 40000))\n",
    "df.drop('income', axis=1, inplace=True)"
   ]
  },
  {
   "cell_type": "code",
   "execution_count": 16,
   "metadata": {},
   "outputs": [
    {
     "data": {
      "text/plain": [
       "<matplotlib.axes._subplots.AxesSubplot at 0x9c35adf0f0>"
      ]
     },
     "execution_count": 16,
     "metadata": {},
     "output_type": "execute_result"
    },
    {
     "data": {
      "image/png": "[encoded data removed]",
      "text/plain": [
       "<matplotlib.figure.Figure at 0x9c34aaf470>"
      ]
     },
     "metadata": {},
     "output_type": "display_data"
    }
   ],
   "source": [
    "df.appl_rej_cnt.hist()"
   ]
  },
  {
   "cell_type": "code",
   "execution_count": 17,
   "metadata": {},
   "outputs": [
    {
     "data": {
      "image/png": "[encoded data removed]",
      "text/plain": [
       "<matplotlib.figure.Figure at 0x9c365c3048>"
      ]
     },
     "metadata": {},
     "output_type": "display_data"
    }
   ],
   "source": [
    "WoE(y.loc[train_index].default_flg, df.loc[train_index].appl_rej_cnt, nbuck=10)"
   ]
  },
  {
   "cell_type": "code",
   "execution_count": 18,
   "metadata": {},
   "outputs": [
    {
     "name": "stdout",
     "output_type": "stream",
     "text": [
      "0.10974374576408974\n",
      "0.10279484257106726\n"
     ]
    }
   ],
   "source": [
    "print (IV(y.loc[train_index].default_flg, df.loc[train_index].appl_rej_cnt, nbuck=10))\n",
    "print (IV(y.loc[train_index].default_flg, df.loc[train_index].appl_rej_cnt.apply(lambda x: int(x <1)), nbuck=10))"
   ]
  },
  {
   "cell_type": "code",
   "execution_count": 19,
   "metadata": {
    "collapsed": true
   },
   "outputs": [],
   "source": [
    "#df['appl_rej_cnt'] = df.appl_rej_cnt.apply(lambda x: int(x<1))"
   ]
  },
  {
   "cell_type": "code",
   "execution_count": 20,
   "metadata": {},
   "outputs": [
    {
     "data": {
      "text/plain": [
       "<matplotlib.axes._subplots.AxesSubplot at 0x9c35affe10>"
      ]
     },
     "execution_count": 20,
     "metadata": {},
     "output_type": "execute_result"
    },
    {
     "data": {
      "image/png": "[encoded data removed]",
      "text/plain": [
       "<matplotlib.figure.Figure at 0x9c34863828>"
      ]
     },
     "metadata": {},
     "output_type": "display_data"
    }
   ],
   "source": [
    "df.region_rating.hist()"
   ]
  },
  {
   "cell_type": "code",
   "execution_count": 1,
   "metadata": {},
   "outputs": [
    {
     "ename": "NameError",
     "evalue": "name 'IV' is not defined",
     "output_type": "error",
     "traceback": [
      "\u001b[1;31m---------------------------------------------------------------------------\u001b[0m",
      "\u001b[1;31mNameError\u001b[0m                                 Traceback (most recent call last)",
      "\u001b[1;32m<ipython-input-1-d74794c62f16>\u001b[0m in \u001b[0;36m<module>\u001b[1;34m()\u001b[0m\n\u001b[1;32m----> 1\u001b[1;33m \u001b[0mprint\u001b[0m \u001b[1;33m(\u001b[0m\u001b[0mIV\u001b[0m\u001b[1;33m(\u001b[0m\u001b[0my\u001b[0m\u001b[1;33m.\u001b[0m\u001b[0mloc\u001b[0m\u001b[1;33m[\u001b[0m\u001b[0mtrain_index\u001b[0m\u001b[1;33m]\u001b[0m\u001b[1;33m.\u001b[0m\u001b[0mdefault_flg\u001b[0m\u001b[1;33m,\u001b[0m \u001b[0mdf\u001b[0m\u001b[1;33m.\u001b[0m\u001b[0mloc\u001b[0m\u001b[1;33m[\u001b[0m\u001b[0mtrain_index\u001b[0m\u001b[1;33m]\u001b[0m\u001b[1;33m.\u001b[0m\u001b[0mregion_rating\u001b[0m\u001b[1;33m,\u001b[0m \u001b[0mnbuck\u001b[0m\u001b[1;33m=\u001b[0m\u001b[1;36m10\u001b[0m\u001b[1;33m)\u001b[0m\u001b[1;33m)\u001b[0m\u001b[1;33m\u001b[0m\u001b[0m\n\u001b[0m\u001b[0;32m      2\u001b[0m \u001b[0mprint\u001b[0m \u001b[1;33m(\u001b[0m\u001b[0mIV\u001b[0m\u001b[1;33m(\u001b[0m\u001b[0my\u001b[0m\u001b[1;33m.\u001b[0m\u001b[0mloc\u001b[0m\u001b[1;33m[\u001b[0m\u001b[0mtrain_index\u001b[0m\u001b[1;33m]\u001b[0m\u001b[1;33m.\u001b[0m\u001b[0mdefault_flg\u001b[0m\u001b[1;33m,\u001b[0m \u001b[0mdf\u001b[0m\u001b[1;33m.\u001b[0m\u001b[0mloc\u001b[0m\u001b[1;33m[\u001b[0m\u001b[0mtrain_index\u001b[0m\u001b[1;33m]\u001b[0m\u001b[1;33m.\u001b[0m\u001b[0mregion_rating\u001b[0m\u001b[1;33m.\u001b[0m\u001b[0mapply\u001b[0m\u001b[1;33m(\u001b[0m\u001b[1;32mlambda\u001b[0m \u001b[0mx\u001b[0m\u001b[1;33m:\u001b[0m \u001b[0mint\u001b[0m\u001b[1;33m(\u001b[0m\u001b[0mx\u001b[0m \u001b[1;33m>=\u001b[0m\u001b[1;36m50\u001b[0m\u001b[1;33m)\u001b[0m\u001b[1;33m)\u001b[0m\u001b[1;33m,\u001b[0m \u001b[0mnbuck\u001b[0m\u001b[1;33m=\u001b[0m\u001b[1;36m10\u001b[0m\u001b[1;33m)\u001b[0m\u001b[1;33m)\u001b[0m\u001b[1;33m\u001b[0m\u001b[0m\n",
      "\u001b[1;31mNameError\u001b[0m: name 'IV' is not defined"
     ]
    }
   ],
   "source": [
    "print (IV(y.loc[train_index].default_flg, df.loc[train_index].region_rating, nbuck=10))\n",
    "print (IV(y.loc[train_index].default_flg, df.loc[train_index].region_rating.apply(lambda x: int(x >=50)), nbuck=10))"
   ]
  },
  {
   "cell_type": "code",
   "execution_count": 21,
   "metadata": {},
   "outputs": [
    {
     "data": {
      "image/png": "[encoded data removed]",
      "text/plain": [
       "<matplotlib.figure.Figure at 0x9c35c654a8>"
      ]
     },
     "metadata": {},
     "output_type": "display_data"
    }
   ],
   "source": [
    "WoE(y.loc[train_index].default_flg, df.loc[train_index].region_rating, nbuck=10)"
   ]
  },
  {
   "cell_type": "code",
   "execution_count": 22,
   "metadata": {},
   "outputs": [
    {
     "data": {
      "text/plain": [
       "<matplotlib.axes._subplots.AxesSubplot at 0x9c35aecba8>"
      ]
     },
     "execution_count": 22,
     "metadata": {},
     "output_type": "execute_result"
    },
    {
     "data": {
      "image/png": "[encoded data removed]",
      "text/plain": [
       "<matplotlib.figure.Figure at 0x9c367cfdd8>"
      ]
     },
     "metadata": {},
     "output_type": "display_data"
    }
   ],
   "source": [
    "df.age.apply(lambda x: np.log(x)).hist()"
   ]
  },
  {
   "cell_type": "code",
   "execution_count": 23,
   "metadata": {},
   "outputs": [
    {
     "data": {
      "image/png": "[encoded data removed]",
      "text/plain": [
       "<matplotlib.figure.Figure at 0x9c34960198>"
      ]
     },
     "metadata": {},
     "output_type": "display_data"
    }
   ],
   "source": [
    "WoE(y.loc[train_index].default_flg, df.loc[train_index].age, nbuck=10)\n"
   ]
  },
  {
   "cell_type": "code",
   "execution_count": 24,
   "metadata": {},
   "outputs": [
    {
     "name": "stdout",
     "output_type": "stream",
     "text": [
      "0.008811654707370572\n",
      "0.0012179846608792245\n",
      "0.008811654707370572\n"
     ]
    }
   ],
   "source": [
    "print (IV(y.loc[train_index].default_flg, df.loc[train_index].age, nbuck=10))\n",
    "print (IV(y.loc[train_index].default_flg, df.loc[train_index].age.apply(lambda x: int(x <55)), nbuck=10))\n",
    "print (IV(y.loc[train_index].default_flg, df.loc[train_index].age.apply(lambda x: np.log(x)), nbuck=10))"
   ]
  },
  {
   "cell_type": "code",
   "execution_count": 25,
   "metadata": {
    "collapsed": true
   },
   "outputs": [],
   "source": [
    "df['age'] = df.age.apply(lambda x: np.log(x))"
   ]
  },
  {
   "cell_type": "code",
   "execution_count": 26,
   "metadata": {},
   "outputs": [
    {
     "data": {
      "image/png": "[encoded data removed]",
      "text/plain": [
       "<matplotlib.figure.Figure at 0x9c34aaf828>"
      ]
     },
     "metadata": {},
     "output_type": "display_data"
    }
   ],
   "source": [
    "WoE(y.loc[train_index].default_flg, df.loc[train_index].home_address_cd, nbuck=10)"
   ]
  },
  {
   "cell_type": "code",
   "execution_count": 27,
   "metadata": {},
   "outputs": [
    {
     "data": {
      "text/plain": [
       "<matplotlib.axes._subplots.AxesSubplot at 0x9c367cd9b0>"
      ]
     },
     "execution_count": 27,
     "metadata": {},
     "output_type": "execute_result"
    },
    {
     "data": {
      "image/png": "[encoded data removed]",
      "text/plain": [
       "<matplotlib.figure.Figure at 0x9c35ad85f8>"
      ]
     },
     "metadata": {},
     "output_type": "display_data"
    }
   ],
   "source": [
    "df.home_address_cd.hist(bins=3)"
   ]
  },
  {
   "cell_type": "code",
   "execution_count": 28,
   "metadata": {},
   "outputs": [
    {
     "name": "stdout",
     "output_type": "stream",
     "text": [
      "0.07932921738348321\n",
      "0.0774015181711397\n"
     ]
    }
   ],
   "source": [
    "print (IV(y.loc[train_index].default_flg, df.loc[train_index].home_address_cd, nbuck=10))\n",
    "print (IV(y.loc[train_index].default_flg, df.loc[train_index].home_address_cd.apply(lambda x: int(x < 2)), nbuck=10))"
   ]
  },
  {
   "cell_type": "code",
   "execution_count": 29,
   "metadata": {
    "collapsed": true
   },
   "outputs": [],
   "source": [
    "df['home_address_cd'] = df.home_address_cd.apply(lambda x: int(x<2))"
   ]
  },
  {
   "cell_type": "code",
   "execution_count": 30,
   "metadata": {},
   "outputs": [
    {
     "data": {
      "text/plain": [
       "<matplotlib.axes._subplots.AxesSubplot at 0x9c34a022e8>"
      ]
     },
     "execution_count": 30,
     "metadata": {},
     "output_type": "execute_result"
    },
    {
     "data": {
      "image/png": "[encoded data removed]",
      "text/plain": [
       "<matplotlib.figure.Figure at 0x9c359c9d68>"
      ]
     },
     "metadata": {},
     "output_type": "display_data"
    }
   ],
   "source": [
    "df.work_address_cd.hist()"
   ]
  },
  {
   "cell_type": "code",
   "execution_count": 31,
   "metadata": {},
   "outputs": [
    {
     "data": {
      "image/png": "[encoded data removed]",
      "text/plain": [
       "<matplotlib.figure.Figure at 0x9c36e68780>"
      ]
     },
     "metadata": {},
     "output_type": "display_data"
    }
   ],
   "source": [
    "WoE(y.loc[train_index].default_flg, df.loc[train_index].work_address_cd, nbuck=10)"
   ]
  },
  {
   "cell_type": "code",
   "execution_count": 32,
   "metadata": {},
   "outputs": [
    {
     "data": {
      "text/plain": [
       "<matplotlib.axes._subplots.AxesSubplot at 0x9c34863198>"
      ]
     },
     "execution_count": 32,
     "metadata": {},
     "output_type": "execute_result"
    },
    {
     "data": {
      "image/png": "[encoded data removed]",
      "text/plain": [
       "<matplotlib.figure.Figure at 0x9c347bd9e8>"
      ]
     },
     "metadata": {},
     "output_type": "display_data"
    }
   ],
   "source": [
    "df.SNA.hist()"
   ]
  },
  {
   "cell_type": "code",
   "execution_count": 33,
   "metadata": {},
   "outputs": [
    {
     "data": {
      "image/png": "[encoded data removed]",
      "text/plain": [
       "<matplotlib.figure.Figure at 0x9c35f58da0>"
      ]
     },
     "metadata": {},
     "output_type": "display_data"
    }
   ],
   "source": [
    "WoE(y.loc[train_index].default_flg, df.loc[train_index].SNA, nbuck=10)"
   ]
  },
  {
   "cell_type": "code",
   "execution_count": 34,
   "metadata": {},
   "outputs": [
    {
     "name": "stdout",
     "output_type": "stream",
     "text": [
      "0.13029581648510263\n",
      "0.11412547623457028\n"
     ]
    }
   ],
   "source": [
    "print (IV(y.loc[train_index].default_flg, df.loc[train_index].SNA, nbuck=10))\n",
    "print (IV(y.loc[train_index].default_flg, df.loc[train_index].SNA.apply(lambda x: int(x > 1)), nbuck=10))"
   ]
  },
  {
   "cell_type": "code",
   "execution_count": 35,
   "metadata": {
    "collapsed": true
   },
   "outputs": [],
   "source": [
    "df['SNA']=df.SNA.apply(lambda x: np.log(x))"
   ]
  },
  {
   "cell_type": "code",
   "execution_count": 36,
   "metadata": {},
   "outputs": [
    {
     "data": {
      "text/plain": [
       "<matplotlib.axes._subplots.AxesSubplot at 0x9c35b47400>"
      ]
     },
     "execution_count": 36,
     "metadata": {},
     "output_type": "execute_result"
    },
    {
     "data": {
      "image/png": "[encoded data removed]",
      "text/plain": [
       "<matplotlib.figure.Figure at 0x9c34ce4a90>"
      ]
     },
     "metadata": {},
     "output_type": "display_data"
    }
   ],
   "source": [
    "df.first_time_cd.hist()"
   ]
  },
  {
   "cell_type": "code",
   "execution_count": 37,
   "metadata": {},
   "outputs": [
    {
     "data": {
      "image/png": "[encoded data removed]",
      "text/plain": [
       "<matplotlib.figure.Figure at 0x9c34ce49e8>"
      ]
     },
     "metadata": {},
     "output_type": "display_data"
    }
   ],
   "source": [
    "WoE(y.loc[train_index].default_flg, df.loc[train_index].first_time_cd, nbuck=10)"
   ]
  },
  {
   "cell_type": "code",
   "execution_count": 38,
   "metadata": {},
   "outputs": [
    {
     "data": {
      "text/plain": [
       "<matplotlib.axes._subplots.AxesSubplot at 0x9c351ed780>"
      ]
     },
     "execution_count": 38,
     "metadata": {},
     "output_type": "execute_result"
    },
    {
     "data": {
      "image/png": "[encoded data removed]",
      "text/plain": [
       "<matplotlib.figure.Figure at 0x9c34994eb8>"
      ]
     },
     "metadata": {},
     "output_type": "display_data"
    }
   ],
   "source": [
    "df.out_request_cnt.hist()"
   ]
  },
  {
   "cell_type": "code",
   "execution_count": 39,
   "metadata": {
    "collapsed": true
   },
   "outputs": [],
   "source": [
    "df['out_request_cnt']=df.out_request_cnt.apply(lambda x: np.log(x+0.000001))"
   ]
  },
  {
   "cell_type": "code",
   "execution_count": 40,
   "metadata": {},
   "outputs": [
    {
     "data": {
      "text/plain": [
       "<matplotlib.axes._subplots.AxesSubplot at 0x9c35cbc780>"
      ]
     },
     "execution_count": 40,
     "metadata": {},
     "output_type": "execute_result"
    },
    {
     "data": {
      "image/png": "[encoded data removed]",
      "text/plain": [
       "<matplotlib.figure.Figure at 0x9c3520b2b0>"
      ]
     },
     "metadata": {},
     "output_type": "display_data"
    }
   ],
   "source": [
    "df.appl_rej_cnt.hist()"
   ]
  },
  {
   "cell_type": "code",
   "execution_count": 41,
   "metadata": {
    "collapsed": true
   },
   "outputs": [],
   "source": [
    "df['appl_rej_cnt']=df.appl_rej_cnt.apply(lambda x: np.log(x+0.000001))"
   ]
  },
  {
   "cell_type": "markdown",
   "metadata": {},
   "source": [
    "#### пробуем разные модели обучения с разными параметрами. SVM так и не хватило терпения дождаться (3 часа) пока доработает, так что без него. Как уже писала выше, градиентный бустинг показал наилучший результат"
   ]
  },
  {
   "cell_type": "code",
   "execution_count": 42,
   "metadata": {},
   "outputs": [
    {
     "name": "stderr",
     "output_type": "stream",
     "text": [
      "C:\\ProgramData\\Anaconda3\\lib\\site-packages\\sklearn\\cross_validation.py:44: DeprecationWarning: This module was deprecated in version 0.18 in favor of the model_selection module into which all the refactored classes and functions are moved. Also note that the interface of the new CV iterators are different from that of this module. This module will be removed in 0.20.\n",
      "  \"This module will be removed in 0.20.\", DeprecationWarning)\n"
     ]
    }
   ],
   "source": [
    "from sklearn.linear_model import LogisticRegression\n",
    "from sklearn.metrics import roc_auc_score\n",
    "from sklearn import cross_validation, svm\n",
    "from sklearn.neighbors import KNeighborsClassifier\n",
    "from sklearn.ensemble import RandomForestClassifier, GradientBoostingClassifier\n",
    "from sklearn.naive_bayes import GaussianNB\n",
    "\n",
    "\n",
    "from sklearn.metrics import roc_curve, auc\n",
    "import pylab as pl"
   ]
  },
  {
   "cell_type": "code",
   "execution_count": 43,
   "metadata": {},
   "outputs": [
    {
     "name": "stdout",
     "output_type": "stream",
     "text": [
      "   Train Validate    C\n",
      "0.647542 0.638841 0.000010\n",
      "0.700665 0.679501 0.000100\n",
      "0.727982 0.710074 0.001000\n",
      "0.729872 0.714760 0.010000\n",
      "0.730271 0.715848 0.100000\n",
      "0.730303 0.716022 1.000000\n",
      "0.730279 0.716156 10.000000\n",
      "0.730312 0.716051 100.000000\n"
     ]
    }
   ],
   "source": [
    "#LR\n",
    "print ('%8s %8s %4s' % ('Train','Validate','C'))\n",
    "for C in [0.00001, 0.0001, 0.001, 0.01, 0.1, 1, 10, 100]:\n",
    "    LR = LogisticRegression(C=C, penalty='l2')\n",
    "    LR.fit(df.loc[train_index], y.loc[train_index].default_flg)\n",
    "    AUC_train = roc_auc_score(y.loc[train_index].default_flg, LR.predict_proba(df.loc[train_index])[:,1])\n",
    "    AUC_validate = roc_auc_score(y.loc[validate_index].default_flg, LR.predict_proba(df.loc[validate_index])[:,1])\n",
    "    print('%.6f %.6f %f' %  (AUC_train, AUC_validate, C))"
   ]
  },
  {
   "cell_type": "code",
   "execution_count": 44,
   "metadata": {},
   "outputs": [
    {
     "name": "stdout",
     "output_type": "stream",
     "text": [
      "[ 0.17948176  0.03319686  0.0178641   0.21507438  0.09685031  0.08014496\n",
      "  0.01044936  0.01921374  0.17313239  0.03925008  0.04763916  0.00566982\n",
      "  0.00193385  0.00674664  0.00592731  0.02454827  0.01975888  0.01185749\n",
      "  0.01126064]\n"
     ]
    }
   ],
   "source": [
    "from sklearn import metrics\n",
    "from sklearn.ensemble import ExtraTreesClassifier\n",
    "model = ExtraTreesClassifier()\n",
    "model.fit(df.loc[train_index], y.loc[train_index].default_flg)\n",
    "# display the relative importance of each attribute\n",
    "print(model.feature_importances_)"
   ]
  },
  {
   "cell_type": "code",
   "execution_count": null,
   "metadata": {
    "collapsed": true
   },
   "outputs": [],
   "source": [
    "#### тут нужны не отрицательные параметры, поэтому не будем пока менять данные\n",
    "#naivi bayes\n",
    "df['Score_bki']=abs(df['Score_bki'])\n",
    "from sklearn.naive_bayes import MultinomialNB\n",
    "clf = MultinomialNB().fit(df.loc[train_index], y.loc[train_index].default_flg)\n",
    "AUC_train = roc_auc_score(y.loc[train_index].default_flg,clf.predict_proba(df.loc[train_index])[:,1])\n",
    "AUC_validate = roc_auc_score(y.loc[validate_index].default_flg, clf.predict_proba(df.loc[validate_index])[:,1])\n",
    "print('%.6f %.6f ' %  (AUC_train, AUC_validate))"
   ]
  },
  {
   "cell_type": "code",
   "execution_count": 45,
   "metadata": {},
   "outputs": [
    {
     "name": "stdout",
     "output_type": "stream",
     "text": [
      "   Train Validate \n",
      "0.696733 0.684229 \n"
     ]
    }
   ],
   "source": [
    "#GAussian\n",
    "print ('%8s %8s ' % ('Train','Validate'))\n",
    "model_GNB = GaussianNB()\n",
    "model_GNB.fit(df.loc[train_index], y.loc[train_index].default_flg)\n",
    "AUC_train = roc_auc_score(y.loc[train_index].default_flg, model_GNB.predict_proba(df.loc[train_index])[:,1])\n",
    "AUC_validate = roc_auc_score(y.loc[validate_index].default_flg, model_GNB.predict_proba(df.loc[validate_index])[:,1])\n",
    "print('%.6f %.6f ' %  (AUC_train, AUC_validate))"
   ]
  },
  {
   "cell_type": "code",
   "execution_count": 46,
   "metadata": {},
   "outputs": [
    {
     "name": "stdout",
     "output_type": "stream",
     "text": [
      "   Train Validate    n\n",
      "1.000000 0.688512 100.000000\n",
      "1.000000 0.690003 150.000000\n",
      "1.000000 0.695984 500.000000\n",
      "1.000000 0.695182 750.000000\n",
      "1.000000 0.696193 1000.000000\n"
     ]
    }
   ],
   "source": [
    "#random forest\n",
    "print ('%8s %8s %4s' % ('Train','Validate','n'))\n",
    "for n in [100,  150, 500, 750, 1000]:\n",
    "    model_rfc = RandomForestClassifier(n_estimators = n)\n",
    "    model_rfc.fit(df.loc[train_index], y.loc[train_index].default_flg)\n",
    "    AUC_train = roc_auc_score(y.loc[train_index].default_flg, model_rfc.predict_proba(df.loc[train_index])[:,1])\n",
    "    AUC_validate = roc_auc_score(y.loc[validate_index].default_flg, model_rfc.predict_proba(df.loc[validate_index])[:,1])\n",
    "    print('%.6f %.6f %f' %  (AUC_train, AUC_validate, n))"
   ]
  },
  {
   "cell_type": "code",
   "execution_count": 47,
   "metadata": {},
   "outputs": [
    {
     "name": "stdout",
     "output_type": "stream",
     "text": [
      "0.721016 0.702796\n"
     ]
    }
   ],
   "source": [
    "#random forest +\n",
    "model_rfc = RandomForestClassifier(n_estimators=500, max_depth=4, criterion='entropy')\n",
    "model_rfc.fit(df.loc[train_index], y.loc[train_index].default_flg)\n",
    "AUC_train = roc_auc_score(y.loc[train_index].default_flg, model_rfc.predict_proba(df.loc[train_index])[:,1])\n",
    "AUC_validate = roc_auc_score(y.loc[validate_index].default_flg, model_rfc.predict_proba(df.loc[validate_index])[:,1])\n",
    "print('%.6f %.6f' %  (AUC_train, AUC_validate))"
   ]
  },
  {
   "cell_type": "code",
   "execution_count": 48,
   "metadata": {
    "collapsed": true
   },
   "outputs": [],
   "source": [
    "from sklearn import preprocessing\n",
    "# normalize the data attributes\n",
    "normalized_X = preprocessing.normalize(df)\n",
    "# standardize the data attributes\n",
    "standardized_X =pd.DataFrame( preprocessing.scale(df))"
   ]
  },
  {
   "cell_type": "code",
   "execution_count": 49,
   "metadata": {
    "scrolled": true
   },
   "outputs": [
    {
     "name": "stdout",
     "output_type": "stream",
     "text": [
      "   Train Validate    n\n",
      "0.695510 0.501695 5.000000\n",
      "0.695510 0.501695 10.000000\n",
      "0.695510 0.501695 15.000000\n",
      "0.695510 0.501695 20.000000\n"
     ]
    }
   ],
   "source": [
    "#neighbors\n",
    "print ('%8s %8s %4s' % ('Train','Validate','n'))\n",
    "for n in [5, 10, 15, 20]:\n",
    "    model_knc = KNeighborsClassifier(n_neighbors = 18)\n",
    "    model_knc.fit(standardized_X.loc[train_index], y.loc[train_index].default_flg)\n",
    "    AUC_train = roc_auc_score(y.loc[train_index].default_flg, model_knc.predict_proba(standardized_X.loc[train_index])[:,1])\n",
    "    AUC_validate = roc_auc_score(y.loc[validate_index].default_flg, model_knc.predict_proba(standardized_X.loc[validate_index])[:,1])\n",
    "    print('%.6f %.6f %f' %  (AUC_train, AUC_validate, n))"
   ]
  },
  {
   "cell_type": "code",
   "execution_count": null,
   "metadata": {
    "collapsed": true
   },
   "outputs": [],
   "source": [
    "#svc\n",
    "print ('%8s %8s ' % ('Train','Validate'))\n",
    "model_svc = svm.SVC()\n",
    "model_svc.fit(df.loc[train_index], y.loc[train_index].default_flg)\n",
    "AUC_train = roc_auc_score(y.loc[train_index].default_flg, model_svc.predict_proba(df.loc[train_index])[:,1])\n",
    "AUC_validate = roc_auc_score(y.loc[validate_index].default_flg, model_svc.predict_proba(df.loc[validate_index])[:,1])\n",
    "print('%.6f %.6f ' %  (AUC_train, AUC_validate))"
   ]
  },
  {
   "cell_type": "code",
   "execution_count": 50,
   "metadata": {
    "scrolled": true
   },
   "outputs": [
    {
     "name": "stdout",
     "output_type": "stream",
     "text": [
      "   Train Validate    n\n",
      "0.751094 0.720168 4.000000\n",
      "0.763114 0.720899 5.000000\n",
      "0.783065 0.719688 6.000000\n"
     ]
    }
   ],
   "source": [
    "#GB\n",
    "print ('%8s %8s %4s' % ('Train','Validate','n'))\n",
    "for n in [4,5,6]:\n",
    "    model_GBC = GradientBoostingClassifier(max_depth =n )\n",
    "    model_GBC.fit(df.loc[train_index], y.loc[train_index].default_flg)\n",
    "    AUC_train = roc_auc_score(y.loc[train_index].default_flg, model_GBC.predict_proba(df.loc[train_index])[:,1])\n",
    "    AUC_validate = roc_auc_score(y.loc[validate_index].default_flg, model_GBC.predict_proba(df.loc[validate_index])[:,1])\n",
    "    print('%.6f %.6f %f' %  (AUC_train, AUC_validate, n))"
   ]
  },
  {
   "cell_type": "markdown",
   "metadata": {},
   "source": [
    "#### здесь, после того как определилась с методом обучения по не преобразованным данным, смотрела как влияет нормализация на auc"
   ]
  },
  {
   "cell_type": "code",
   "execution_count": null,
   "metadata": {
    "collapsed": true
   },
   "outputs": [],
   "source": [
    "#GB\n",
    "model_GBC = GradientBoostingClassifier(max_depth =5)\n",
    "model_GBC.fit(df.loc[train_index], y.loc[train_index].default_flg)\n",
    "AUC_train = roc_auc_score(y.loc[train_index].default_flg, model_GBC.predict_proba(df.loc[train_index])[:,1])\n",
    "AUC_validate = roc_auc_score(y.loc[validate_index].default_flg, model_GBC.predict_proba(df.loc[validate_index])[:,1])\n",
    "print('%.6f %.6f ' %  (AUC_train, AUC_validate))"
   ]
  },
  {
   "cell_type": "markdown",
   "metadata": {
    "collapsed": true
   },
   "source": [
    "0.761730 0.719217 5.000000\n",
    "age 0.761730 0.719340 5.000000\n",
    "home\n",
    "age+home 0.760745 0.720149 5.000000\n",
    "+SNA 0.760417 0.716843 5.000000\n",
    "+log SNA 0.760745 0.720173 5.000000\n",
    "\n",
    "log incom 0.762834 0.720518 5.000000\n",
    "+log  incom 0.763114 0.720959 5.000000\n",
    "\n",
    "\n",
    "#попытка ввести признак из соображения природы данных: отношение отклоненных заявок к общему, но только хуже стало\n",
    "+ appl_rej_cnt/out_request_cnt 0.758633 0.719399 5.000000\n",
    "+ - app 0.759176 0.713846 \n",
    "+ log out 0.763114 0.720928 \n",
    "+log app 0.763114 0.720884 "
   ]
  },
  {
   "cell_type": "markdown",
   "metadata": {},
   "source": [
    "#### попытка применить кросс-валидацию на тестовой выборке, но точность чуть упала(("
   ]
  },
  {
   "cell_type": "code",
   "execution_count": null,
   "metadata": {
    "collapsed": true
   },
   "outputs": [],
   "source": [
    "part1 = train_index [train_index < 22030]\n",
    "part2 = train_index [(train_index < 44060)&(train_index >=22030)]\n",
    "part3 = train_index [(train_index < 66090)&(train_index >=44060)]\n",
    "part4 = train_index [(train_index < 88120)&(train_index >=66090)]\n",
    "part5 = train_index [(train_index >=88120)]"
   ]
  },
  {
   "cell_type": "code",
   "execution_count": 53,
   "metadata": {},
   "outputs": [
    {
     "data": {
      "text/html": [
       "<div>\n",
       "<style>\n",
       "    .dataframe thead tr:only-child th {\n",
       "        text-align: right;\n",
       "    }\n",
       "\n",
       "    .dataframe thead th {\n",
       "        text-align: left;\n",
       "    }\n",
       "\n",
       "    .dataframe tbody tr th {\n",
       "        vertical-align: top;\n",
       "    }\n",
       "</style>\n",
       "<table border=\"1\" class=\"dataframe\">\n",
       "  <thead>\n",
       "    <tr style=\"text-align: right;\">\n",
       "      <th></th>\n",
       "      <th>1</th>\n",
       "      <th>2</th>\n",
       "      <th>3</th>\n",
       "      <th>4</th>\n",
       "      <th>5</th>\n",
       "    </tr>\n",
       "    <tr>\n",
       "      <th>id</th>\n",
       "      <th></th>\n",
       "      <th></th>\n",
       "      <th></th>\n",
       "      <th></th>\n",
       "      <th></th>\n",
       "    </tr>\n",
       "  </thead>\n",
       "  <tbody>\n",
       "    <tr>\n",
       "      <th>110149</th>\n",
       "      <td>0.065921</td>\n",
       "      <td>0.057898</td>\n",
       "      <td>0.044392</td>\n",
       "      <td>0.047041</td>\n",
       "      <td>0.058897</td>\n",
       "    </tr>\n",
       "    <tr>\n",
       "      <th>110150</th>\n",
       "      <td>0.064907</td>\n",
       "      <td>0.070870</td>\n",
       "      <td>0.080105</td>\n",
       "      <td>0.079946</td>\n",
       "      <td>0.071640</td>\n",
       "    </tr>\n",
       "    <tr>\n",
       "      <th>110151</th>\n",
       "      <td>0.086113</td>\n",
       "      <td>0.060977</td>\n",
       "      <td>0.055322</td>\n",
       "      <td>0.059853</td>\n",
       "      <td>0.056814</td>\n",
       "    </tr>\n",
       "    <tr>\n",
       "      <th>110152</th>\n",
       "      <td>0.212710</td>\n",
       "      <td>0.176724</td>\n",
       "      <td>0.182352</td>\n",
       "      <td>0.200083</td>\n",
       "      <td>0.181643</td>\n",
       "    </tr>\n",
       "    <tr>\n",
       "      <th>110153</th>\n",
       "      <td>0.236629</td>\n",
       "      <td>0.207361</td>\n",
       "      <td>0.203705</td>\n",
       "      <td>0.195040</td>\n",
       "      <td>0.193219</td>\n",
       "    </tr>\n",
       "  </tbody>\n",
       "</table>\n",
       "</div>"
      ],
      "text/plain": [
       "               1         2         3         4         5\n",
       "id                                                      \n",
       "110149  0.065921  0.057898  0.044392  0.047041  0.058897\n",
       "110150  0.064907  0.070870  0.080105  0.079946  0.071640\n",
       "110151  0.086113  0.060977  0.055322  0.059853  0.056814\n",
       "110152  0.212710  0.176724  0.182352  0.200083  0.181643\n",
       "110153  0.236629  0.207361  0.203705  0.195040  0.193219"
      ]
     },
     "execution_count": 53,
     "metadata": {},
     "output_type": "execute_result"
    }
   ],
   "source": [
    "model_GBC = GradientBoostingClassifier(max_depth =5)\n",
    "\n",
    "\n",
    "pred=pd.DataFrame(index=validate_index)\n",
    "\n",
    "model_GBC.fit(df.loc[part1.append(part2).append(part3).append(part4)], y.loc[part1.append(part2).append(part3).append(part4)].default_flg)\n",
    "pred['1']= model_GBC.predict_proba(df.loc[validate_index])[:,1]\n",
    "model_GBC.fit(df.loc[part1.append(part2).append(part3).append(part5)], y.loc[part1.append(part2).append(part3).append(part5)].default_flg)\n",
    "pred['2']= model_GBC.predict_proba(df.loc[validate_index])[:,1]\n",
    "model_GBC.fit(df.loc[part1.append(part2).append(part4).append(part5)], y.loc[part1.append(part2).append(part4).append(part5)].default_flg)\n",
    "pred['3']= model_GBC.predict_proba(df.loc[validate_index])[:,1]\n",
    "model_GBC.fit(df.loc[part1.append(part3).append(part4).append(part5)], y.loc[part1.append(part3).append(part4).append(part5)].default_flg)\n",
    "pred['4']= model_GBC.predict_proba(df.loc[validate_index])[:,1]\n",
    "model_GBC.fit(df.loc[part2.append(part3).append(part4).append(part5)], y.loc[part2.append(part3).append(part4).append(part5)].default_flg)\n",
    "pred['5']= model_GBC.predict_proba(df.loc[validate_index])[:,1]\n",
    "pred.head()"
   ]
  },
  {
   "cell_type": "code",
   "execution_count": 54,
   "metadata": {},
   "outputs": [
    {
     "data": {
      "text/html": [
       "<div>\n",
       "<style>\n",
       "    .dataframe thead tr:only-child th {\n",
       "        text-align: right;\n",
       "    }\n",
       "\n",
       "    .dataframe thead th {\n",
       "        text-align: left;\n",
       "    }\n",
       "\n",
       "    .dataframe tbody tr th {\n",
       "        vertical-align: top;\n",
       "    }\n",
       "</style>\n",
       "<table border=\"1\" class=\"dataframe\">\n",
       "  <thead>\n",
       "    <tr style=\"text-align: right;\">\n",
       "      <th></th>\n",
       "      <th>0</th>\n",
       "    </tr>\n",
       "    <tr>\n",
       "      <th>id</th>\n",
       "      <th></th>\n",
       "    </tr>\n",
       "  </thead>\n",
       "  <tbody>\n",
       "    <tr>\n",
       "      <th>110149</th>\n",
       "      <td>0.054830</td>\n",
       "    </tr>\n",
       "    <tr>\n",
       "      <th>110150</th>\n",
       "      <td>0.073494</td>\n",
       "    </tr>\n",
       "    <tr>\n",
       "      <th>110151</th>\n",
       "      <td>0.063816</td>\n",
       "    </tr>\n",
       "    <tr>\n",
       "      <th>110152</th>\n",
       "      <td>0.190702</td>\n",
       "    </tr>\n",
       "    <tr>\n",
       "      <th>110153</th>\n",
       "      <td>0.207191</td>\n",
       "    </tr>\n",
       "  </tbody>\n",
       "</table>\n",
       "</div>"
      ],
      "text/plain": [
       "               0\n",
       "id              \n",
       "110149  0.054830\n",
       "110150  0.073494\n",
       "110151  0.063816\n",
       "110152  0.190702\n",
       "110153  0.207191"
      ]
     },
     "execution_count": 54,
     "metadata": {},
     "output_type": "execute_result"
    }
   ],
   "source": [
    "p6=pd.DataFrame((pred['1']+pred['2']+pred['3']+pred['4']+pred['5'])/5)\n",
    "p6.head()"
   ]
  },
  {
   "cell_type": "code",
   "execution_count": 55,
   "metadata": {},
   "outputs": [
    {
     "data": {
      "text/plain": [
       "0.72075750550557294"
      ]
     },
     "execution_count": 55,
     "metadata": {},
     "output_type": "execute_result"
    }
   ],
   "source": [
    "roc_auc_score(y.loc[validate_index].default_flg, p6.loc[validate_index])"
   ]
  },
  {
   "cell_type": "markdown",
   "metadata": {},
   "source": [
    "# final"
   ]
  },
  {
   "cell_type": "code",
   "execution_count": 57,
   "metadata": {},
   "outputs": [
    {
     "data": {
      "text/plain": [
       "0.73201600878449136"
      ]
     },
     "execution_count": 57,
     "metadata": {},
     "output_type": "execute_result"
    }
   ],
   "source": [
    "model_GBC = GradientBoostingClassifier(max_depth =5)\n",
    "model_GBC.fit(df.loc[train_valid], y.loc[train_valid].default_flg)\n",
    "test_pd = model_GBC.predict_proba(df.loc[test_index])[:,1]\n",
    "test_pd.max()"
   ]
  },
  {
   "cell_type": "code",
   "execution_count": 58,
   "metadata": {
    "collapsed": true
   },
   "outputs": [],
   "source": [
    "test_pd = pd.DataFrame(test_pd, columns=['score'], index=test_index)\n",
    "test_pd.to_csv('my_submission.csv')"
   ]
  },
  {
   "cell_type": "code",
   "execution_count": null,
   "metadata": {
    "collapsed": true
   },
   "outputs": [],
   "source": [
    "test_pd.head()"
   ]
  },
  {
   "cell_type": "code",
   "execution_count": null,
   "metadata": {
    "collapsed": true
   },
   "outputs": [],
   "source": []
  }
 ],
 "metadata": {
  "kernelspec": {
   "display_name": "Python 3",
   "language": "python",
   "name": "python3"
  },
  "language_info": {
   "codemirror_mode": {
    "name": "ipython",
    "version": 3
   },
   "file_extension": ".py",
   "mimetype": "text/x-python",
   "name": "python",
   "nbconvert_exporter": "python",
   "pygments_lexer": "ipython3",
   "version": "3.6.1"
  }
 },
 "nbformat": 4,
 "nbformat_minor": 1
}
