{
 "cells": [
  {
   "cell_type": "markdown",
   "metadata": {},
   "source": [
    "## Кредитный Скоринг\n",
    "\n",
    "#### Описание задачи\n",
    "Дана выборка заявок на кредитный продукт. Про заявителей известны различные данные на момент заполнения анкеты. По части выборки (train, validate) известны результаты пользования кредитом (случился дефолт или нет), а по другой части(test) результаты известны только организаторам. Необходимо извлечь зависимость из имеющихся данных о заявителях и фактом наличия дефолта, и предсказать результат на тестовых данных.\n",
    "В качестве метрики используется [AUC](https://www.kaggle.com/wiki/AreaUnderCurve).\n",
    "#### Описание выборки  \n",
    "\n",
    "##### APPLICATION_INFO.csv  \n",
    " - **id** - идентификатор счета\n",
    " - **application_dt** -  Дата подачи заявки\n",
    " - **sample_cd** -  Категория выборки\n",
    " - **education_cd** -  Образование\n",
    " - **gender_cd** -  Пол\n",
    " - **age** -  Возраст\n",
    " - **car_own_flg** -  Флаг наличия автомобиля\n",
    " - **car_type_flg** -  Флаг наличия иномарки\n",
    " - **appl_rej_cnt** -  Количество отказанных прошлых заявок\n",
    " - **good_work_flg** -  Флаг наличия \"хорошей\" работы\n",
    " - **Score_bki** -  Скор балл по данным из бюро кредитных историй\n",
    " - **out_request_cnt** -  Количество запросов в бюро\n",
    " - **region_rating** -  Рейтинг региона\n",
    " - **home_address_cd** -  Категаризатор домашнего адреса\n",
    " - **work_address_cd** -  Категаризатор рабочего адреса\n",
    " - **income** -  Доход заявителя\n",
    " - **SNA** -  Связь заявителя с клиентами\n",
    " - **first_time_cd** -  Давность наличия информации о заявителе\n",
    " - **Air_flg** -  Наличие загран паспорта\n",
    " \n",
    "##### DEFAULT_FLG.csv  \n",
    "\n",
    " - **id** - идентификатор счета\n",
    " - **default_flg** -  Флаг дефолта по кредиту\n",
    "\n"
   ]
  },
  {
   "cell_type": "markdown",
   "metadata": {},
   "source": [
    "Подключаем библиотеки"
   ]
  },
  {
   "cell_type": "code",
   "execution_count": 17,
   "metadata": {
    "collapsed": true
   },
   "outputs": [],
   "source": [
    "import pandas as pd              #Обработка табличных данных\n",
    "import numpy as np               #Алгоритмы линейной алгебры\n",
    "import matplotlib.pyplot as plt  #Различные способы визуализации\n",
    "\n",
    "\n",
    "%matplotlib inline"
   ]
  },
  {
   "cell_type": "markdown",
   "metadata": {},
   "source": [
    "#### Предобработка данных"
   ]
  },
  {
   "cell_type": "markdown",
   "metadata": {},
   "source": [
    "Считываем данные из csv файла"
   ]
  },
  {
   "cell_type": "code",
   "execution_count": 18,
   "metadata": {
    "collapsed": true
   },
   "outputs": [],
   "source": [
    "df = pd.read_csv('application_info.csv', index_col='id')"
   ]
  },
  {
   "cell_type": "markdown",
   "metadata": {},
   "source": [
    "У pandas основные типы данных:\n",
    "* DataFrame - двумерные массивы\n",
    "* Series - одномерный массим"
   ]
  },
  {
   "cell_type": "code",
   "execution_count": 19,
   "metadata": {},
   "outputs": [
    {
     "data": {
      "text/plain": [
       "(205296, 18)"
      ]
     },
     "execution_count": 19,
     "metadata": {},
     "output_type": "execute_result"
    }
   ],
   "source": [
    "df.shape"
   ]
  },
  {
   "cell_type": "code",
   "execution_count": 20,
   "metadata": {},
   "outputs": [
    {
     "data": {
      "text/html": [
       "<div>\n",
       "<style>\n",
       "    .dataframe thead tr:only-child th {\n",
       "        text-align: right;\n",
       "    }\n",
       "\n",
       "    .dataframe thead th {\n",
       "        text-align: left;\n",
       "    }\n",
       "\n",
       "    .dataframe tbody tr th {\n",
       "        vertical-align: top;\n",
       "    }\n",
       "</style>\n",
       "<table border=\"1\" class=\"dataframe\">\n",
       "  <thead>\n",
       "    <tr style=\"text-align: right;\">\n",
       "      <th></th>\n",
       "      <th>application_dt</th>\n",
       "      <th>sample_cd</th>\n",
       "      <th>education_cd</th>\n",
       "      <th>gender_cd</th>\n",
       "      <th>car_own_flg</th>\n",
       "      <th>car_type_flg</th>\n",
       "      <th>Air_flg</th>\n",
       "    </tr>\n",
       "  </thead>\n",
       "  <tbody>\n",
       "    <tr>\n",
       "      <th>count</th>\n",
       "      <td>205296</td>\n",
       "      <td>205296</td>\n",
       "      <td>204384</td>\n",
       "      <td>205296</td>\n",
       "      <td>205296</td>\n",
       "      <td>205296</td>\n",
       "      <td>205296</td>\n",
       "    </tr>\n",
       "    <tr>\n",
       "      <th>unique</th>\n",
       "      <td>333</td>\n",
       "      <td>3</td>\n",
       "      <td>5</td>\n",
       "      <td>2</td>\n",
       "      <td>2</td>\n",
       "      <td>2</td>\n",
       "      <td>2</td>\n",
       "    </tr>\n",
       "    <tr>\n",
       "      <th>top</th>\n",
       "      <td>18MAR2014</td>\n",
       "      <td>train</td>\n",
       "      <td>SCH</td>\n",
       "      <td>F</td>\n",
       "      <td>N</td>\n",
       "      <td>N</td>\n",
       "      <td>N</td>\n",
       "    </tr>\n",
       "    <tr>\n",
       "      <th>freq</th>\n",
       "      <td>1491</td>\n",
       "      <td>110148</td>\n",
       "      <td>100234</td>\n",
       "      <td>117400</td>\n",
       "      <td>139119</td>\n",
       "      <td>166471</td>\n",
       "      <td>172168</td>\n",
       "    </tr>\n",
       "  </tbody>\n",
       "</table>\n",
       "</div>"
      ],
      "text/plain": [
       "       application_dt sample_cd education_cd gender_cd car_own_flg  \\\n",
       "count          205296    205296       204384    205296      205296   \n",
       "unique            333         3            5         2           2   \n",
       "top         18MAR2014     train          SCH         F           N   \n",
       "freq             1491    110148       100234    117400      139119   \n",
       "\n",
       "       car_type_flg Air_flg  \n",
       "count        205296  205296  \n",
       "unique            2       2  \n",
       "top               N       N  \n",
       "freq         166471  172168  "
      ]
     },
     "execution_count": 20,
     "metadata": {},
     "output_type": "execute_result"
    }
   ],
   "source": [
    "df.describe(include=['object'])"
   ]
  },
  {
   "cell_type": "markdown",
   "metadata": {},
   "source": [
    "Изменим формат у столбца `application_date` на дату."
   ]
  },
  {
   "cell_type": "markdown",
   "metadata": {},
   "source": [
    "Встроенный метод `plot` у `DataFrame` и `Series` позволяет быстро строить диаграммы."
   ]
  },
  {
   "cell_type": "markdown",
   "metadata": {},
   "source": [
    "Загрузим флаг дефолта"
   ]
  },
  {
   "cell_type": "code",
   "execution_count": 21,
   "metadata": {},
   "outputs": [
    {
     "name": "stdout",
     "output_type": "stream",
     "text": [
      "(180816, 1)\n"
     ]
    },
    {
     "data": {
      "text/html": [
       "<div>\n",
       "<style>\n",
       "    .dataframe thead tr:only-child th {\n",
       "        text-align: right;\n",
       "    }\n",
       "\n",
       "    .dataframe thead th {\n",
       "        text-align: left;\n",
       "    }\n",
       "\n",
       "    .dataframe tbody tr th {\n",
       "        vertical-align: top;\n",
       "    }\n",
       "</style>\n",
       "<table border=\"1\" class=\"dataframe\">\n",
       "  <thead>\n",
       "    <tr style=\"text-align: right;\">\n",
       "      <th></th>\n",
       "      <th>default_flg</th>\n",
       "    </tr>\n",
       "    <tr>\n",
       "      <th>id</th>\n",
       "      <th></th>\n",
       "    </tr>\n",
       "  </thead>\n",
       "  <tbody>\n",
       "    <tr>\n",
       "      <th>1</th>\n",
       "      <td>0</td>\n",
       "    </tr>\n",
       "    <tr>\n",
       "      <th>2</th>\n",
       "      <td>0</td>\n",
       "    </tr>\n",
       "  </tbody>\n",
       "</table>\n",
       "</div>"
      ],
      "text/plain": [
       "    default_flg\n",
       "id             \n",
       "1             0\n",
       "2             0"
      ]
     },
     "execution_count": 21,
     "metadata": {},
     "output_type": "execute_result"
    }
   ],
   "source": [
    "y = pd.read_csv('default_flg.csv', index_col='id')\n",
    "print(y.shape)\n",
    "y.head(2)"
   ]
  },
  {
   "cell_type": "markdown",
   "metadata": {},
   "source": [
    "Запоминаем разбивку на обучение, валидацию и тест"
   ]
  },
  {
   "cell_type": "code",
   "execution_count": 22,
   "metadata": {
    "collapsed": true
   },
   "outputs": [],
   "source": [
    "train_index    = df[df.sample_cd =='train'].sample_cd.index\n",
    "validate_index = df[df.sample_cd =='validate'].sample_cd.index\n",
    "test_index     = df[df.sample_cd =='test'].sample_cd.index\n",
    "\n",
    "\n",
    "df.drop(['sample_cd','application_dt'],axis=1,inplace=True) #Удаляем два столбца из выборки"
   ]
  },
  {
   "cell_type": "markdown",
   "metadata": {},
   "source": [
    "Список категориальных полей"
   ]
  },
  {
   "cell_type": "code",
   "execution_count": 23,
   "metadata": {},
   "outputs": [
    {
     "data": {
      "text/plain": [
       "['education_cd', 'gender_cd', 'car_own_flg', 'car_type_flg', 'Air_flg']"
      ]
     },
     "execution_count": 23,
     "metadata": {},
     "output_type": "execute_result"
    }
   ],
   "source": [
    "category_columns = [col for col in df.columns if df.dtypes[col] == 'object']\n",
    "category_columns"
   ]
  },
  {
   "cell_type": "markdown",
   "metadata": {},
   "source": [
    "Поля с пустыми значениями"
   ]
  },
  {
   "cell_type": "code",
   "execution_count": 24,
   "metadata": {},
   "outputs": [
    {
     "data": {
      "text/plain": [
       "education_cd        True\n",
       "gender_cd          False\n",
       "age                False\n",
       "car_own_flg        False\n",
       "car_type_flg       False\n",
       "appl_rej_cnt       False\n",
       "good_work_flg      False\n",
       "Score_bki          False\n",
       "out_request_cnt    False\n",
       "region_rating      False\n",
       "home_address_cd    False\n",
       "work_address_cd    False\n",
       "income             False\n",
       "SNA                False\n",
       "first_time_cd      False\n",
       "Air_flg            False\n",
       "dtype: bool"
      ]
     },
     "execution_count": 24,
     "metadata": {},
     "output_type": "execute_result"
    }
   ],
   "source": [
    "df.isnull().any()"
   ]
  },
  {
   "cell_type": "code",
   "execution_count": 25,
   "metadata": {},
   "outputs": [
    {
     "data": {
      "text/plain": [
       "SCH    100234\n",
       "GRD     71417\n",
       "UGR     28284\n",
       "PGR      3841\n",
       "NaN       912\n",
       "ACD       608\n",
       "Name: education_cd, dtype: int64"
      ]
     },
     "execution_count": 25,
     "metadata": {},
     "output_type": "execute_result"
    }
   ],
   "source": [
    "df.education_cd.value_counts(dropna=False)"
   ]
  },
  {
   "cell_type": "markdown",
   "metadata": {},
   "source": [
    "Заменим пустые значения на самое частое"
   ]
  },
  {
   "cell_type": "code",
   "execution_count": 26,
   "metadata": {
    "collapsed": true
   },
   "outputs": [],
   "source": [
    "df.education_cd.fillna('SCH', inplace=True)"
   ]
  },
  {
   "cell_type": "markdown",
   "metadata": {},
   "source": [
    "Производим dummy кодирование не числовых полей"
   ]
  },
  {
   "cell_type": "code",
   "execution_count": 27,
   "metadata": {},
   "outputs": [
    {
     "data": {
      "text/html": [
       "<div>\n",
       "<style>\n",
       "    .dataframe thead tr:only-child th {\n",
       "        text-align: right;\n",
       "    }\n",
       "\n",
       "    .dataframe thead th {\n",
       "        text-align: left;\n",
       "    }\n",
       "\n",
       "    .dataframe tbody tr th {\n",
       "        vertical-align: top;\n",
       "    }\n",
       "</style>\n",
       "<table border=\"1\" class=\"dataframe\">\n",
       "  <thead>\n",
       "    <tr style=\"text-align: right;\">\n",
       "      <th></th>\n",
       "      <th>education_cd_GRD</th>\n",
       "      <th>education_cd_PGR</th>\n",
       "      <th>education_cd_SCH</th>\n",
       "      <th>education_cd_UGR</th>\n",
       "      <th>gender_cd_M</th>\n",
       "      <th>car_own_flg_Y</th>\n",
       "      <th>car_type_flg_Y</th>\n",
       "      <th>Air_flg_Y</th>\n",
       "    </tr>\n",
       "    <tr>\n",
       "      <th>id</th>\n",
       "      <th></th>\n",
       "      <th></th>\n",
       "      <th></th>\n",
       "      <th></th>\n",
       "      <th></th>\n",
       "      <th></th>\n",
       "      <th></th>\n",
       "      <th></th>\n",
       "    </tr>\n",
       "  </thead>\n",
       "  <tbody>\n",
       "    <tr>\n",
       "      <th>1</th>\n",
       "      <td>0</td>\n",
       "      <td>0</td>\n",
       "      <td>1</td>\n",
       "      <td>0</td>\n",
       "      <td>1</td>\n",
       "      <td>1</td>\n",
       "      <td>1</td>\n",
       "      <td>0</td>\n",
       "    </tr>\n",
       "    <tr>\n",
       "      <th>2</th>\n",
       "      <td>1</td>\n",
       "      <td>0</td>\n",
       "      <td>0</td>\n",
       "      <td>0</td>\n",
       "      <td>0</td>\n",
       "      <td>0</td>\n",
       "      <td>0</td>\n",
       "      <td>0</td>\n",
       "    </tr>\n",
       "  </tbody>\n",
       "</table>\n",
       "</div>"
      ],
      "text/plain": [
       "    education_cd_GRD  education_cd_PGR  education_cd_SCH  education_cd_UGR  \\\n",
       "id                                                                           \n",
       "1                  0                 0                 1                 0   \n",
       "2                  1                 0                 0                 0   \n",
       "\n",
       "    gender_cd_M  car_own_flg_Y  car_type_flg_Y  Air_flg_Y  \n",
       "id                                                         \n",
       "1             1              1               1          0  \n",
       "2             0              0               0          0  "
      ]
     },
     "execution_count": 27,
     "metadata": {},
     "output_type": "execute_result"
    }
   ],
   "source": [
    "data_category = pd.get_dummies(df[category_columns], drop_first=True)\n",
    "data_category.head(2)"
   ]
  },
  {
   "cell_type": "markdown",
   "metadata": {},
   "source": [
    "Заменяем не числовые поля на dummy кодированные"
   ]
  },
  {
   "cell_type": "code",
   "execution_count": 28,
   "metadata": {},
   "outputs": [
    {
     "data": {
      "text/html": [
       "<div>\n",
       "<style>\n",
       "    .dataframe thead tr:only-child th {\n",
       "        text-align: right;\n",
       "    }\n",
       "\n",
       "    .dataframe thead th {\n",
       "        text-align: left;\n",
       "    }\n",
       "\n",
       "    .dataframe tbody tr th {\n",
       "        vertical-align: top;\n",
       "    }\n",
       "</style>\n",
       "<table border=\"1\" class=\"dataframe\">\n",
       "  <thead>\n",
       "    <tr style=\"text-align: right;\">\n",
       "      <th></th>\n",
       "      <th>age</th>\n",
       "      <th>appl_rej_cnt</th>\n",
       "      <th>good_work_flg</th>\n",
       "      <th>Score_bki</th>\n",
       "      <th>out_request_cnt</th>\n",
       "      <th>region_rating</th>\n",
       "      <th>home_address_cd</th>\n",
       "      <th>work_address_cd</th>\n",
       "      <th>income</th>\n",
       "      <th>SNA</th>\n",
       "      <th>first_time_cd</th>\n",
       "      <th>education_cd_GRD</th>\n",
       "      <th>education_cd_PGR</th>\n",
       "      <th>education_cd_SCH</th>\n",
       "      <th>education_cd_UGR</th>\n",
       "      <th>gender_cd_M</th>\n",
       "      <th>car_own_flg_Y</th>\n",
       "      <th>car_type_flg_Y</th>\n",
       "      <th>Air_flg_Y</th>\n",
       "    </tr>\n",
       "    <tr>\n",
       "      <th>id</th>\n",
       "      <th></th>\n",
       "      <th></th>\n",
       "      <th></th>\n",
       "      <th></th>\n",
       "      <th></th>\n",
       "      <th></th>\n",
       "      <th></th>\n",
       "      <th></th>\n",
       "      <th></th>\n",
       "      <th></th>\n",
       "      <th></th>\n",
       "      <th></th>\n",
       "      <th></th>\n",
       "      <th></th>\n",
       "      <th></th>\n",
       "      <th></th>\n",
       "      <th></th>\n",
       "      <th></th>\n",
       "      <th></th>\n",
       "    </tr>\n",
       "  </thead>\n",
       "  <tbody>\n",
       "    <tr>\n",
       "      <th>1</th>\n",
       "      <td>27</td>\n",
       "      <td>0</td>\n",
       "      <td>0</td>\n",
       "      <td>-1.917831</td>\n",
       "      <td>0</td>\n",
       "      <td>40</td>\n",
       "      <td>2</td>\n",
       "      <td>3</td>\n",
       "      <td>32000</td>\n",
       "      <td>1</td>\n",
       "      <td>4</td>\n",
       "      <td>0</td>\n",
       "      <td>0</td>\n",
       "      <td>1</td>\n",
       "      <td>0</td>\n",
       "      <td>1</td>\n",
       "      <td>1</td>\n",
       "      <td>1</td>\n",
       "      <td>0</td>\n",
       "    </tr>\n",
       "    <tr>\n",
       "      <th>2</th>\n",
       "      <td>26</td>\n",
       "      <td>0</td>\n",
       "      <td>0</td>\n",
       "      <td>-1.153144</td>\n",
       "      <td>2</td>\n",
       "      <td>60</td>\n",
       "      <td>2</td>\n",
       "      <td>3</td>\n",
       "      <td>50000</td>\n",
       "      <td>2</td>\n",
       "      <td>1</td>\n",
       "      <td>1</td>\n",
       "      <td>0</td>\n",
       "      <td>0</td>\n",
       "      <td>0</td>\n",
       "      <td>0</td>\n",
       "      <td>0</td>\n",
       "      <td>0</td>\n",
       "      <td>0</td>\n",
       "    </tr>\n",
       "  </tbody>\n",
       "</table>\n",
       "</div>"
      ],
      "text/plain": [
       "    age  appl_rej_cnt  good_work_flg  Score_bki  out_request_cnt  \\\n",
       "id                                                                 \n",
       "1    27             0              0  -1.917831                0   \n",
       "2    26             0              0  -1.153144                2   \n",
       "\n",
       "    region_rating  home_address_cd  work_address_cd  income  SNA  \\\n",
       "id                                                                 \n",
       "1              40                2                3   32000    1   \n",
       "2              60                2                3   50000    2   \n",
       "\n",
       "    first_time_cd  education_cd_GRD  education_cd_PGR  education_cd_SCH  \\\n",
       "id                                                                        \n",
       "1               4                 0                 0                 1   \n",
       "2               1                 1                 0                 0   \n",
       "\n",
       "    education_cd_UGR  gender_cd_M  car_own_flg_Y  car_type_flg_Y  Air_flg_Y  \n",
       "id                                                                           \n",
       "1                  0            1              1               1          0  \n",
       "2                  0            0              0               0          0  "
      ]
     },
     "execution_count": 28,
     "metadata": {},
     "output_type": "execute_result"
    }
   ],
   "source": [
    "df.drop(category_columns, axis=1, inplace=True)\n",
    "df = pd.concat([df, data_category], axis=1)\n",
    "df.head(2)"
   ]
  },
  {
   "cell_type": "markdown",
   "metadata": {},
   "source": [
    "#### Вспомогательные функции\n",
    "\n",
    "\n",
    "##### WoE (weight of evidence)\n",
    " - На вход подается бинарная целевая переменная $target$, признак $feature$ и количество бакетов $k$\n",
    " - Признак разбивается на бакеты  с номерами $0 \\le i \\le k$. \n",
    " - Считаем долю значений целевой переменной $tr$ и количество наблюдений $cnt$\n",
    " - Считаем $WoE_i = \\ln\\left(\\frac{tr_i}{tr}\\right) - \\ln\\left(\\frac{1-tr_i}{1-tr}\\right)$\n",
    " - Рисуем зависимость $WoE_i$ от среднего значения признака в бакте\n",
    " \n",
    "###### IV (Information Value)\n",
    " - На вход подается бинарная целевая переменная $target$, признак $feature$ и количество бакетов $k$\n",
    " - Признак разбивается на бакеты  с номерами $0 \\le i \\le k$. \n",
    " - Считаем долю значений целевой переменной $tr$ и количество наблюдений $cnt$\n",
    " - Считаем долю значений целевой переменной в каждом бакете $tr_i$ и количество наблюдений в каждом бакете $cnt_i$\n",
    " - Считается $ IV = \\sum\\limits_{i}{\\left(\\frac{tr_i}{tr} - \\frac{1-tr_i}{1-tr}\\right)\\left(\\ln\\left(\\frac{tr_i}{tr}\\right) - \\ln\\left(\\frac{1-tr_i}{1-tr}\\right)\\right)\\left(\\frac{cnt_i}{cnt}\\right)}$\n",
    " - Слагаемые, в которых $tr_i=0$ или $tr_i=1$, сглаживаем до $tr_i=0.001$ и $tr_i=0.999$ соответственно"
   ]
  },
  {
   "cell_type": "code",
   "execution_count": 34,
   "metadata": {
    "collapsed": true
   },
   "outputs": [],
   "source": [
    "def WoE(target, feature, nbuck=10):\n",
    "    \"\"\"Функция, русующая зависимость WoE от среднего значения признака в бакете\"\"\"\n",
    "    #Копируем данные\n",
    "    df = pd.DataFrame()\n",
    "    df['target']  = target.copy()\n",
    "    df['feature'] = feature.copy()\n",
    "    #Считаем номер бакета\n",
    "    df['feature_buck'] = df['feature'].rank(method='min', pct=1, na_option = 'top').apply(\n",
    "        lambda x: int((x- 1/df.shape[0])*nbuck))\n",
    "    #Запоминаем среднее значение целевой переменной и кол-во наблюдений\n",
    "    tr  = df['target'].mean()\n",
    "    cnt = df['target'].count()\n",
    "    #Агрегируем по каждому бакету\n",
    "    df = df.groupby('feature_buck')['target' ].agg({'tr': 'mean','cnt': 'size'}).join(\n",
    "        df.groupby('feature_buck')['feature'].agg({'feature_av': 'mean'}))\n",
    "    #В случае крайних значений tr делаем сглаживание\n",
    "    df.tr = df.tr.apply(lambda x: max(0.001, min(0.999, x)))\n",
    "    #считаем WoE\n",
    "    df.eval('WoE = log(tr/@tr)-log((1-tr)/(1-@tr))', inplace=True)\n",
    "    #Погрешность WoE\n",
    "    df.eval('WoE_d = 2/sqrt(tr*(1-tr)*cnt)', inplace=True) \n",
    "    #убираем наблюдения с пустым значением признака\n",
    "    df.dropna(inplace=True)\n",
    "    #Рисуем график\n",
    "    fig = plt.gcf()\n",
    "    plt.grid(True)\n",
    "    plt.errorbar(df['feature_av'], df.WoE, yerr=np.array((df['WoE_d'])))\n",
    "    plt.xlabel('feature')\n",
    "    plt.ylabel('WoE')\n",
    "    plt.show()\n",
    "\n",
    "def IV(target, feature, nbuck=10):\n",
    "    \"\"\"Функция, возвращающая IV признака-feature с целевой переменной target\"\"\"\n",
    "    #Копируем данные\n",
    "    df = pd.DataFrame()\n",
    "    df['target']  = target.copy()\n",
    "    df['feature'] = feature.copy()\n",
    "    #Считаем номер бакета\n",
    "    df['feature_buck'] = df['feature'].rank(method='min', pct=1, na_option = 'top').apply(\n",
    "        lambda x: int((x- 1.0/df.shape[0])*nbuck))\n",
    "    #Запоминаем среднее значение целевой переменной и кол-во наблюдений\n",
    "    tr  = df['target'].mean()\n",
    "    cnt = df['target'].count()\n",
    "    #Агрегируем по каждому бакету\n",
    "    df = df.groupby('feature_buck')['target'].agg({'tr': 'mean','cnt': 'size'})\n",
    "    #В случае крайних значений tr делаем сглаживание\n",
    "    df.tr = df.tr.apply(lambda x: max(0.001, min(0.999, x)))\n",
    "    #Считаем IV\n",
    "    df.eval('IV = ( (tr/@tr) - ((1-tr)/(1-@tr))) * (log(tr/@tr) - log((1-tr)/(1-@tr)) ) * (cnt/@cnt)', inplace=True)\n",
    "    IV = df.IV.sum()\n",
    "    return IV"
   ]
  },
  {
   "cell_type": "markdown",
   "metadata": {},
   "source": [
    "#### WoE"
   ]
  },
  {
   "cell_type": "markdown",
   "metadata": {},
   "source": [
    "Рисуем гистограмму"
   ]
  },
  {
   "cell_type": "code",
   "execution_count": 25,
   "metadata": {},
   "outputs": [
    {
     "data": {
      "image/png": "[encoded data removed]",
      "text/plain": [
       "<matplotlib.figure.Figure at 0x21731a8c128>"
      ]
     },
     "metadata": {},
     "output_type": "display_data"
    }
   ],
   "source": [
    "df.loc[train_index].Score_bki.plot.hist(bins=50);"
   ]
  },
  {
   "cell_type": "markdown",
   "metadata": {},
   "source": [
    "Зависимость WoE от признака"
   ]
  },
  {
   "cell_type": "code",
   "execution_count": 35,
   "metadata": {},
   "outputs": [
    {
     "name": "stderr",
     "output_type": "stream",
     "text": [
      "C:\\ProgramData\\Anaconda3\\lib\\site-packages\\ipykernel_launcher.py:14: FutureWarning: using a dict on a Series for aggregation\n",
      "is deprecated and will be removed in a future version\n",
      "  \n",
      "C:\\ProgramData\\Anaconda3\\lib\\site-packages\\ipykernel_launcher.py:15: FutureWarning: using a dict on a Series for aggregation\n",
      "is deprecated and will be removed in a future version\n",
      "  from ipykernel import kernelapp as app\n"
     ]
    },
    {
     "data": {
      "image/png": "[encoded data removed]",
      "text/plain": [
       "<matplotlib.figure.Figure at 0xaf6b09e080>"
      ]
     },
     "metadata": {},
     "output_type": "display_data"
    }
   ],
   "source": [
    "WoE(y.loc[train_index].default_flg, df.loc[train_index].Score_bki, nbuck=20)"
   ]
  },
  {
   "cell_type": "markdown",
   "metadata": {},
   "source": [
    "Считаем IV"
   ]
  },
  {
   "cell_type": "code",
   "execution_count": 27,
   "metadata": {},
   "outputs": [
    {
     "data": {
      "text/plain": [
       "0.283108532383257"
      ]
     },
     "execution_count": 27,
     "metadata": {},
     "output_type": "execute_result"
    }
   ],
   "source": [
    "IV(y.loc[train_index].default_flg, df.loc[train_index].Score_bki, nbuck=20)"
   ]
  },
  {
   "cell_type": "code",
   "execution_count": 28,
   "metadata": {},
   "outputs": [
    {
     "data": {
      "image/png": "[encoded data removed]",
      "text/plain": [
       "<matplotlib.figure.Figure at 0x21730a59908>"
      ]
     },
     "metadata": {},
     "output_type": "display_data"
    }
   ],
   "source": [
    "df.income.plot.hist(bins=50);"
   ]
  },
  {
   "cell_type": "markdown",
   "metadata": {},
   "source": [
    "У признака доход зависимость WoE не такая линейная, как у Score_bki."
   ]
  },
  {
   "cell_type": "code",
   "execution_count": 29,
   "metadata": {},
   "outputs": [
    {
     "data": {
      "image/png": "[encoded data removed]",
      "text/plain": [
       "<matplotlib.figure.Figure at 0x2173114e710>"
      ]
     },
     "metadata": {},
     "output_type": "display_data"
    }
   ],
   "source": [
    "WoE(y.loc[train_index].default_flg, df.loc[train_index].income, nbuck=10)"
   ]
  },
  {
   "cell_type": "markdown",
   "metadata": {},
   "source": [
    "WoE от преобразованного признака"
   ]
  },
  {
   "cell_type": "code",
   "execution_count": 30,
   "metadata": {},
   "outputs": [
    {
     "data": {
      "image/png": "[encoded data removed]",
      "text/plain": [
       "<matplotlib.figure.Figure at 0x21731209898>"
      ]
     },
     "metadata": {},
     "output_type": "display_data"
    }
   ],
   "source": [
    "WoE(y.loc[train_index].default_flg, df.loc[train_index].income.apply(lambda x: np.log(x)), nbuck=10)"
   ]
  },
  {
   "cell_type": "markdown",
   "metadata": {},
   "source": [
    "Посчитаем IV от различных преобразований поля income"
   ]
  },
  {
   "cell_type": "code",
   "execution_count": 31,
   "metadata": {},
   "outputs": [
    {
     "name": "stdout",
     "output_type": "stream",
     "text": [
      "0.03837794897479724\n",
      "0.03837794897479724\n",
      "0.03354139550049351\n"
     ]
    }
   ],
   "source": [
    "print (IV(y.loc[train_index].default_flg, df.loc[train_index].income, nbuck=10))\n",
    "print (IV(y.loc[train_index].default_flg, df.loc[train_index].income.apply(lambda x: np.log(x)), nbuck=10))\n",
    "print (IV(y.loc[train_index].default_flg, df.loc[train_index].income.apply(lambda x: int(x > 40000)), nbuck=10))"
   ]
  },
  {
   "cell_type": "markdown",
   "metadata": {},
   "source": [
    "Видно, что iv у флага \"доход > 40000\" не сильно меньше, поэтому вводим флаг в замен старого признака."
   ]
  },
  {
   "cell_type": "code",
   "execution_count": 31,
   "metadata": {
    "collapsed": true
   },
   "outputs": [],
   "source": [
    "df['income_40k_flg'] = df.income.apply(lambda x: int(x > 40000))\n",
    "df.drop('income', axis=1, inplace=True)"
   ]
  },
  {
   "cell_type": "markdown",
   "metadata": {},
   "source": [
    "#### Логистическая регрессия"
   ]
  },
  {
   "cell_type": "code",
   "execution_count": 29,
   "metadata": {
    "collapsed": true
   },
   "outputs": [],
   "source": [
    "from sklearn.linear_model import LogisticRegression\n",
    "from sklearn.metrics import roc_auc_score"
   ]
  },
  {
   "cell_type": "markdown",
   "metadata": {},
   "source": [
    "Выбираем параметр регуляризации на валидационной выборке"
   ]
  },
  {
   "cell_type": "code",
   "execution_count": 32,
   "metadata": {},
   "outputs": [
    {
     "name": "stdout",
     "output_type": "stream",
     "text": [
      "   Train Validate    C\n",
      "0.631389 0.623292 0.000010\n",
      "0.698338 0.681162 0.000100\n",
      "0.727944 0.711949 0.001000\n",
      "0.729356 0.715301 0.010000\n",
      "0.729289 0.715619 0.100000\n",
      "0.729276 0.715654 1.000000\n",
      "0.729275 0.715657 10.000000\n",
      "0.729275 0.715658 100.000000\n"
     ]
    }
   ],
   "source": [
    "print ('%8s %8s %4s' % ('Train','Validate','C'))\n",
    "for C in [0.00001, 0.0001, 0.001, 0.01, 0.1, 1, 10, 100]:\n",
    "    LR = LogisticRegression(C=C, penalty='l2')\n",
    "    LR.fit(df.loc[train_index], y.loc[train_index].default_flg)\n",
    "    AUC_train = roc_auc_score(y.loc[train_index].default_flg, LR.predict_proba(df.loc[train_index])[:,1])\n",
    "    AUC_validate = roc_auc_score(y.loc[validate_index].default_flg, LR.predict_proba(df.loc[validate_index])[:,1])\n",
    "    print('%.6f %.6f %f' %  (AUC_train, AUC_validate, C))"
   ]
  },
  {
   "cell_type": "markdown",
   "metadata": {},
   "source": [
    "Запускаем лучшее решение и сохраняем результат"
   ]
  },
  {
   "cell_type": "code",
   "execution_count": 35,
   "metadata": {
    "collapsed": true
   },
   "outputs": [],
   "source": [
    "LR_best = LogisticRegression(C=100, penalty='l2') # <- на самом деле ругуляризация 1/C\n",
    "LR.fit(df.loc[train_index], y.loc[train_index].default_flg)\n",
    "test_pd = LR.predict_proba(df.loc[test_index])[:,1]"
   ]
  },
  {
   "cell_type": "markdown",
   "metadata": {},
   "source": [
    "Выводим коэффициенты"
   ]
  },
  {
   "cell_type": "code",
   "execution_count": 36,
   "metadata": {
    "scrolled": false
   },
   "outputs": [
    {
     "data": {
      "text/html": [
       "<div>\n",
       "<style>\n",
       "    .dataframe thead tr:only-child th {\n",
       "        text-align: right;\n",
       "    }\n",
       "\n",
       "    .dataframe thead th {\n",
       "        text-align: left;\n",
       "    }\n",
       "\n",
       "    .dataframe tbody tr th {\n",
       "        vertical-align: top;\n",
       "    }\n",
       "</style>\n",
       "<table border=\"1\" class=\"dataframe\">\n",
       "  <thead>\n",
       "    <tr style=\"text-align: right;\">\n",
       "      <th></th>\n",
       "      <th>coef</th>\n",
       "    </tr>\n",
       "  </thead>\n",
       "  <tbody>\n",
       "    <tr>\n",
       "      <th>age</th>\n",
       "      <td>-0.005598</td>\n",
       "    </tr>\n",
       "    <tr>\n",
       "      <th>appl_rej_cnt</th>\n",
       "      <td>0.132157</td>\n",
       "    </tr>\n",
       "    <tr>\n",
       "      <th>good_work_flg</th>\n",
       "      <td>-0.253478</td>\n",
       "    </tr>\n",
       "    <tr>\n",
       "      <th>Score_bki</th>\n",
       "      <td>0.981245</td>\n",
       "    </tr>\n",
       "    <tr>\n",
       "      <th>out_request_cnt</th>\n",
       "      <td>0.067619</td>\n",
       "    </tr>\n",
       "    <tr>\n",
       "      <th>region_rating</th>\n",
       "      <td>-0.024926</td>\n",
       "    </tr>\n",
       "    <tr>\n",
       "      <th>home_address_cd</th>\n",
       "      <td>0.281607</td>\n",
       "    </tr>\n",
       "    <tr>\n",
       "      <th>work_address_cd</th>\n",
       "      <td>0.284008</td>\n",
       "    </tr>\n",
       "    <tr>\n",
       "      <th>SNA</th>\n",
       "      <td>0.143680</td>\n",
       "    </tr>\n",
       "    <tr>\n",
       "      <th>first_time_cd</th>\n",
       "      <td>-0.092833</td>\n",
       "    </tr>\n",
       "    <tr>\n",
       "      <th>education_cd_GRD</th>\n",
       "      <td>-0.128775</td>\n",
       "    </tr>\n",
       "    <tr>\n",
       "      <th>education_cd_PGR</th>\n",
       "      <td>-0.259538</td>\n",
       "    </tr>\n",
       "    <tr>\n",
       "      <th>education_cd_SCH</th>\n",
       "      <td>0.286510</td>\n",
       "    </tr>\n",
       "    <tr>\n",
       "      <th>education_cd_UGR</th>\n",
       "      <td>0.113305</td>\n",
       "    </tr>\n",
       "    <tr>\n",
       "      <th>gender_cd_M</th>\n",
       "      <td>0.293428</td>\n",
       "    </tr>\n",
       "    <tr>\n",
       "      <th>car_own_flg_Y</th>\n",
       "      <td>-0.024535</td>\n",
       "    </tr>\n",
       "    <tr>\n",
       "      <th>car_type_flg_Y</th>\n",
       "      <td>-0.210598</td>\n",
       "    </tr>\n",
       "    <tr>\n",
       "      <th>Air_flg_Y</th>\n",
       "      <td>-0.186856</td>\n",
       "    </tr>\n",
       "    <tr>\n",
       "      <th>income_40k_flg</th>\n",
       "      <td>-0.142997</td>\n",
       "    </tr>\n",
       "  </tbody>\n",
       "</table>\n",
       "</div>"
      ],
      "text/plain": [
       "                      coef\n",
       "age              -0.005598\n",
       "appl_rej_cnt      0.132157\n",
       "good_work_flg    -0.253478\n",
       "Score_bki         0.981245\n",
       "out_request_cnt   0.067619\n",
       "region_rating    -0.024926\n",
       "home_address_cd   0.281607\n",
       "work_address_cd   0.284008\n",
       "SNA               0.143680\n",
       "first_time_cd    -0.092833\n",
       "education_cd_GRD -0.128775\n",
       "education_cd_PGR -0.259538\n",
       "education_cd_SCH  0.286510\n",
       "education_cd_UGR  0.113305\n",
       "gender_cd_M       0.293428\n",
       "car_own_flg_Y    -0.024535\n",
       "car_type_flg_Y   -0.210598\n",
       "Air_flg_Y        -0.186856\n",
       "income_40k_flg   -0.142997"
      ]
     },
     "execution_count": 36,
     "metadata": {},
     "output_type": "execute_result"
    }
   ],
   "source": [
    "pd.DataFrame(LR.coef_.T, index=df.columns, columns=['coef'])"
   ]
  },
  {
   "cell_type": "markdown",
   "metadata": {},
   "source": [
    "Сохраняем результат в csv"
   ]
  },
  {
   "cell_type": "code",
   "execution_count": 37,
   "metadata": {},
   "outputs": [
    {
     "name": "stdout",
     "output_type": "stream",
     "text": [
      "(24480, 1)\n"
     ]
    },
    {
     "data": {
      "text/html": [
       "<div>\n",
       "<style>\n",
       "    .dataframe thead tr:only-child th {\n",
       "        text-align: right;\n",
       "    }\n",
       "\n",
       "    .dataframe thead th {\n",
       "        text-align: left;\n",
       "    }\n",
       "\n",
       "    .dataframe tbody tr th {\n",
       "        vertical-align: top;\n",
       "    }\n",
       "</style>\n",
       "<table border=\"1\" class=\"dataframe\">\n",
       "  <thead>\n",
       "    <tr style=\"text-align: right;\">\n",
       "      <th></th>\n",
       "      <th>score</th>\n",
       "    </tr>\n",
       "    <tr>\n",
       "      <th>id</th>\n",
       "      <th></th>\n",
       "    </tr>\n",
       "  </thead>\n",
       "  <tbody>\n",
       "    <tr>\n",
       "      <th>180817</th>\n",
       "      <td>0.075688</td>\n",
       "    </tr>\n",
       "    <tr>\n",
       "      <th>180818</th>\n",
       "      <td>0.120584</td>\n",
       "    </tr>\n",
       "  </tbody>\n",
       "</table>\n",
       "</div>"
      ],
      "text/plain": [
       "           score\n",
       "id              \n",
       "180817  0.075688\n",
       "180818  0.120584"
      ]
     },
     "execution_count": 37,
     "metadata": {},
     "output_type": "execute_result"
    }
   ],
   "source": [
    "test_pd = pd.DataFrame(test_pd, columns=['score'], index=test_index)\n",
    "test_pd.to_csv('my_submission.csv')\n",
    "print(test_pd.shape)\n",
    "test_pd.head(2)"
   ]
  }
 ],
 "metadata": {
  "kernelspec": {
   "display_name": "Python 3",
   "language": "python",
   "name": "python3"
  },
  "language_info": {
   "codemirror_mode": {
    "name": "ipython",
    "version": 3
   },
   "file_extension": ".py",
   "mimetype": "text/x-python",
   "name": "python",
   "nbconvert_exporter": "python",
   "pygments_lexer": "ipython3",
   "version": "3.6.1"
  }
 },
 "nbformat": 4,
 "nbformat_minor": 1
}
